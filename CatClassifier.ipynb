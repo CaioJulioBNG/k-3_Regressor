{
 "cells": [
  {
   "cell_type": "markdown",
   "id": "9bed2cd9-b0fd-4e79-8c95-42f88a56f79b",
   "metadata": {},
   "source": [
    "## Importações"
   ]
  },
  {
   "cell_type": "code",
   "execution_count": 1,
   "id": "89d71d3d-2e86-4df9-8715-7200d3a2c3fc",
   "metadata": {},
   "outputs": [],
   "source": [
    "import numpy as np\n",
    "import pandas as pd\n",
    "from catboost import CatBoostClassifier\n",
    "from sklearn.model_selection import train_test_split\n",
    "from sklearn.metrics import roc_auc_score"
   ]
  },
  {
   "cell_type": "markdown",
   "id": "1b673101-241f-4885-adc3-4dd6014403a6",
   "metadata": {},
   "source": [
    "## Carga de Dados"
   ]
  },
  {
   "cell_type": "code",
   "execution_count": 2,
   "id": "99ff4fee-6328-4e59-85a4-ee7c15688b40",
   "metadata": {},
   "outputs": [],
   "source": [
    "data_treino = pd.read_csv('/home/caio/github/k-3/data/train.csv')\n",
    "data_teste = pd.read_csv('/home/caio/github/k-3/data/test.csv')\n",
    "data_zero = pd.read_csv('/home/caio/github/k-3/data/test.csv')"
   ]
  },
  {
   "cell_type": "markdown",
   "id": "e4946992-3711-4c3b-ba91-c9c2714178c9",
   "metadata": {},
   "source": [
    "## Feature Engineer"
   ]
  },
  {
   "cell_type": "code",
   "execution_count": 3,
   "id": "0ce03768-776d-4d5b-af49-49e3655bafa7",
   "metadata": {},
   "outputs": [],
   "source": [
    "# Supondo que seu DataFrame se chame df\n",
    "data_treino[\"cloud_humidity\"] = data_treino[\"cloud\"] * data_treino[\"humidity\"]\n",
    "data_treino[\"cloud_pressure\"] = data_treino[\"cloud\"] / data_treino[\"pressure\"]\n",
    "data_treino[\"cloud_windspeed\"] = data_treino[\"cloud\"] * data_treino[\"windspeed\"]\n",
    "data_treino[\"cloud_index\"] = (data_treino[\"cloud\"] + data_treino[\"humidity\"]) / 2\n",
    "\n",
    "data_treino[\"humidity_cloud\"] = data_treino[\"humidity\"] * data_treino[\"cloud\"]\n",
    "data_treino[\"humidity_pressure\"] = data_treino[\"humidity\"] / data_treino[\"pressure\"]\n",
    "data_treino[\"humidity_temp\"] = data_treino[\"humidity\"] * data_treino[\"temparature\"]\n"
   ]
  },
  {
   "cell_type": "code",
   "execution_count": 4,
   "id": "7923a8d1-ca5b-4b9e-a024-6e48e223eca7",
   "metadata": {},
   "outputs": [],
   "source": [
    "# Supondo que seu DataFrame se chame df\n",
    "data_teste[\"cloud_humidity\"] = data_teste[\"cloud\"] * data_teste[\"humidity\"]\n",
    "data_teste[\"cloud_pressure\"] = data_teste[\"cloud\"] / data_teste[\"pressure\"]\n",
    "data_teste[\"cloud_windspeed\"] = data_teste[\"cloud\"] * data_teste[\"windspeed\"]\n",
    "data_teste[\"cloud_index\"] = (data_teste[\"cloud\"] + data_teste[\"humidity\"]) / 2\n",
    "\n",
    "data_teste[\"humidity_cloud\"] = data_teste[\"humidity\"] * data_teste[\"cloud\"]\n",
    "data_teste[\"humidity_pressure\"] = data_teste[\"humidity\"] / data_teste[\"pressure\"]\n",
    "data_teste[\"humidity_temp\"] = data_teste[\"humidity\"] * data_teste[\"temparature\"]"
   ]
  },
  {
   "cell_type": "code",
   "execution_count": 5,
   "id": "753aaba5-9639-4abe-8e63-e9962670e0f9",
   "metadata": {},
   "outputs": [],
   "source": [
    "data_treino = data_treino.drop(columns=[\"dewpoint\"])\n",
    "data_treino = data_treino.drop(columns=[\"winddirection\"])\n",
    "data_treino = data_treino.drop(columns=[\"day\"])\n",
    "data_treino = data_treino.drop(columns=[\"id\"])\n"
   ]
  },
  {
   "cell_type": "code",
   "execution_count": 6,
   "id": "7a57b768-fe7a-4e4a-b484-62f3fb123409",
   "metadata": {},
   "outputs": [],
   "source": [
    "data_teste = data_teste.drop(columns=[\"dewpoint\"])\n",
    "data_teste = data_teste.drop(columns=[\"day\"])\n",
    "data_teste = data_teste.drop(columns=[\"id\"])\n",
    "data_teste = data_teste.drop(columns=[\"winddirection\"])"
   ]
  },
  {
   "cell_type": "markdown",
   "id": "764586c7-b313-4b52-a61a-56aea5e51ebb",
   "metadata": {},
   "source": [
    "## Divisão Feature / Target"
   ]
  },
  {
   "cell_type": "code",
   "execution_count": 7,
   "id": "fb1bbdad-8cdc-48f2-aee2-19480748e0a2",
   "metadata": {},
   "outputs": [],
   "source": [
    "feature = data_treino.drop(columns=['rainfall'])       # Feature Treino\n",
    "target = data_treino.pop('rainfall')                   # Target Treino\n",
    "feature_final = data_teste                                    # Feature para Teste final"
   ]
  },
  {
   "cell_type": "code",
   "execution_count": 8,
   "id": "38b3f770-7047-4638-a512-c73fa4eb9763",
   "metadata": {},
   "outputs": [],
   "source": [
    "feature_treino, feature_teste, target_treino, target_teste = train_test_split(feature, target, test_size=0.2, random_state=69)"
   ]
  },
  {
   "cell_type": "markdown",
   "id": "1c10ef8a-7593-41ac-8052-7b3393cbd4de",
   "metadata": {},
   "source": [
    "## Criação do Modelo"
   ]
  },
  {
   "cell_type": "code",
   "execution_count": 9,
   "id": "5d2942b2-f7ab-4442-8d6c-ddd3f9826204",
   "metadata": {},
   "outputs": [],
   "source": [
    "model = CatBoostClassifier(\n",
    "    learning_rate=0.01, \n",
    "    l2_leaf_reg=10.0, \n",
    "    iterations=600, \n",
    "    depth=7, \n",
    "    border_count=80, \n",
    "    verbose=0, \n",
    "    random_state=69\n",
    ")\n"
   ]
  },
  {
   "cell_type": "markdown",
   "id": "4cf221b6-911b-471b-958c-54feedcd5aa1",
   "metadata": {},
   "source": [
    "## Treinamento do Modelo de Provisório"
   ]
  },
  {
   "cell_type": "code",
   "execution_count": 10,
   "id": "d1bc7199-8834-42dd-bb6b-26a913c0b318",
   "metadata": {},
   "outputs": [
    {
     "name": "stdout",
     "output_type": "stream",
     "text": [
      "AUC Score: 0.8686\n"
     ]
    }
   ],
   "source": [
    "model.fit(feature_treino, target_treino)\n",
    "previsao_verificadora = model.predict_proba(feature_teste)[:, 1]  # Pegando apenas a probabilidade da classe positiva\n",
    "\n",
    "# Calculando AUC Score\n",
    "auc_score = roc_auc_score(target_teste, previsao_verificadora)\n",
    "print(f\"AUC Score: {auc_score:.4f}\")\n",
    "# mvp 0.8704"
   ]
  },
  {
   "cell_type": "markdown",
   "id": "cbd99dd2-b97e-4df8-9ead-f93550bf8bc2",
   "metadata": {},
   "source": [
    "## Modelo Final"
   ]
  },
  {
   "cell_type": "code",
   "execution_count": 11,
   "id": "89e02699-2570-471d-b87e-0642eb8dbcb5",
   "metadata": {},
   "outputs": [],
   "source": [
    "model.fit(feature, target)\n",
    "previsao = model.predict_proba(data_teste)[:, 1]  # Pega apenas a probabilidade da classe positiva\n",
    "previsao = previsao.flatten()  # Ou previsao.ravel()"
   ]
  },
  {
   "cell_type": "code",
   "execution_count": 12,
   "id": "7d2b7d45-eb52-4389-836a-6335e987a4f4",
   "metadata": {},
   "outputs": [],
   "source": [
    "caminho_destino = 'ensemble/Cat_Classifier.csv'\n",
    "resultado = pd.DataFrame({\n",
    "    'id': data_zero['id'],\n",
    "    'rainfall': previsao     \n",
    "})\n",
    "\n",
    "resultado.to_csv(caminho_destino, index=False)"
   ]
  },
  {
   "cell_type": "code",
   "execution_count": null,
   "id": "65b268d5-ad66-4aaf-a0c8-a4546bec3b48",
   "metadata": {},
   "outputs": [],
   "source": []
  }
 ],
 "metadata": {
  "kernelspec": {
   "display_name": "Python 3 (ipykernel)",
   "language": "python",
   "name": "python3"
  },
  "language_info": {
   "codemirror_mode": {
    "name": "ipython",
    "version": 3
   },
   "file_extension": ".py",
   "mimetype": "text/x-python",
   "name": "python",
   "nbconvert_exporter": "python",
   "pygments_lexer": "ipython3",
   "version": "3.11.5"
  }
 },
 "nbformat": 4,
 "nbformat_minor": 5
}
