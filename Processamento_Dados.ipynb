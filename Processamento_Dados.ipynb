{
 "cells": [
  {
   "cell_type": "code",
   "execution_count": 1,
   "id": "8f818c47-b51c-4534-ab8b-828a2299265e",
   "metadata": {},
   "outputs": [],
   "source": [
    "import pandas as pd\n",
    "import matplotlib.pyplot as plt\n",
    "import seaborn as sns\n",
    "from IPython.display import display\n",
    "from sklearn.decomposition import PCA\n",
    "from sklearn.preprocessing import StandardScaler"
   ]
  },
  {
   "cell_type": "code",
   "execution_count": 10,
   "id": "eada6481-408a-483d-a29c-f27123fd89b4",
   "metadata": {},
   "outputs": [],
   "source": [
    "data_treino = pd.read_csv('/home/caio/github/k-3/data/train.csv')\n",
    "data_teste = pd.read_csv('/home/caio/github/k-3/data/test.csv')"
   ]
  },
  {
   "cell_type": "markdown",
   "id": "d20e7f5b-315b-46e0-8e7b-c956874a9286",
   "metadata": {
    "jp-MarkdownHeadingCollapsed": true
   },
   "source": [
    "## Pré-Processamento"
   ]
  },
  {
   "cell_type": "markdown",
   "id": "9fa4c226-6094-4d44-a092-2b159c75aff9",
   "metadata": {
    "jp-MarkdownHeadingCollapsed": true
   },
   "source": [
    "### Normalizando Dewpoint"
   ]
  },
  {
   "cell_type": "code",
   "execution_count": 3,
   "id": "34a067e7-4454-4a45-bb59-1777eadff7a8",
   "metadata": {},
   "outputs": [],
   "source": [
    "data_treino['dewpoint'] = data_treino['dewpoint'].interpolate()\n",
    "data_teste['dewpoint'] = data_treino['dewpoint'].interpolate()"
   ]
  },
  {
   "cell_type": "markdown",
   "id": "36eb09c2-be7f-408d-a7d1-db58b09348aa",
   "metadata": {
    "jp-MarkdownHeadingCollapsed": true
   },
   "source": [
    "### Normalizando Winddirection"
   ]
  },
  {
   "cell_type": "code",
   "execution_count": 4,
   "id": "336ca2a6-6719-4597-ad34-bfc636b44056",
   "metadata": {},
   "outputs": [],
   "source": [
    "data_teste['winddirection'] = data_teste['winddirection'].fillna(104.863151)"
   ]
  },
  {
   "cell_type": "markdown",
   "id": "87bfbb86-5986-465b-a40a-5e5a4049c2a4",
   "metadata": {
    "jp-MarkdownHeadingCollapsed": true
   },
   "source": [
    "### Diminuindo Colunas Maxtemp, Temparature e mintemp (PCA)"
   ]
  },
  {
   "cell_type": "code",
   "execution_count": 5,
   "id": "4348344a-45f2-41b5-90f8-e26640acae84",
   "metadata": {},
   "outputs": [
    {
     "name": "stdout",
     "output_type": "stream",
     "text": [
      "[0.96481135]\n"
     ]
    }
   ],
   "source": [
    "# Selecionando as Colunas\n",
    "colunas = ['maxtemp', 'temparature', 'mintemp', 'dewpoint']\n",
    "reducao = data_treino[colunas]\n",
    "\n",
    "# Normalizando os dados (PCA funciona melhor com dados padronizados)\n",
    "scaler = StandardScaler()\n",
    "reducao_scalada = scaler.fit_transform(reducao)\n",
    "\n",
    "# Aplicar PCA\n",
    "pca = PCA(n_components=1)  # Reduzindo para 2 componentes\n",
    "reducao_unificada = pca.fit_transform(reducao_scalada)\n",
    "\n",
    "# Criar um DataFrame com os novos componentes\n",
    "temp1= pd.DataFrame(reducao_unificada, columns=['PCA1_A'])\n",
    "\n",
    "print(pca.explained_variance_ratio_)"
   ]
  },
  {
   "cell_type": "code",
   "execution_count": 8,
   "id": "ef8d0631-70ba-4e56-ba5d-462343a5054b",
   "metadata": {},
   "outputs": [
    {
     "ename": "KeyError",
     "evalue": "\"None of [Index(['maxtemp', 'temparature', 'mintemp', 'dewpoint'], dtype='object')] are in the [columns]\"",
     "output_type": "error",
     "traceback": [
      "\u001b[0;31m---------------------------------------------------------------------------\u001b[0m",
      "\u001b[0;31mKeyError\u001b[0m                                  Traceback (most recent call last)",
      "Cell \u001b[0;32mIn[8], line 2\u001b[0m\n\u001b[1;32m      1\u001b[0m \u001b[38;5;66;03m# Selecionando as Colunas\u001b[39;00m\n\u001b[0;32m----> 2\u001b[0m reducao \u001b[38;5;241m=\u001b[39m data_teste[colunas]\n\u001b[1;32m      4\u001b[0m \u001b[38;5;66;03m# Normalizando os dados (PCA funciona melhor com dados padronizados)\u001b[39;00m\n\u001b[1;32m      5\u001b[0m scaler \u001b[38;5;241m=\u001b[39m StandardScaler()\n",
      "File \u001b[0;32m~/Arquivos/conda/envs/ML/lib/python3.11/site-packages/pandas/core/frame.py:4108\u001b[0m, in \u001b[0;36mDataFrame.__getitem__\u001b[0;34m(self, key)\u001b[0m\n\u001b[1;32m   4106\u001b[0m     \u001b[38;5;28;01mif\u001b[39;00m is_iterator(key):\n\u001b[1;32m   4107\u001b[0m         key \u001b[38;5;241m=\u001b[39m \u001b[38;5;28mlist\u001b[39m(key)\n\u001b[0;32m-> 4108\u001b[0m     indexer \u001b[38;5;241m=\u001b[39m \u001b[38;5;28mself\u001b[39m\u001b[38;5;241m.\u001b[39mcolumns\u001b[38;5;241m.\u001b[39m_get_indexer_strict(key, \u001b[38;5;124m\"\u001b[39m\u001b[38;5;124mcolumns\u001b[39m\u001b[38;5;124m\"\u001b[39m)[\u001b[38;5;241m1\u001b[39m]\n\u001b[1;32m   4110\u001b[0m \u001b[38;5;66;03m# take() does not accept boolean indexers\u001b[39;00m\n\u001b[1;32m   4111\u001b[0m \u001b[38;5;28;01mif\u001b[39;00m \u001b[38;5;28mgetattr\u001b[39m(indexer, \u001b[38;5;124m\"\u001b[39m\u001b[38;5;124mdtype\u001b[39m\u001b[38;5;124m\"\u001b[39m, \u001b[38;5;28;01mNone\u001b[39;00m) \u001b[38;5;241m==\u001b[39m \u001b[38;5;28mbool\u001b[39m:\n",
      "File \u001b[0;32m~/Arquivos/conda/envs/ML/lib/python3.11/site-packages/pandas/core/indexes/base.py:6200\u001b[0m, in \u001b[0;36mIndex._get_indexer_strict\u001b[0;34m(self, key, axis_name)\u001b[0m\n\u001b[1;32m   6197\u001b[0m \u001b[38;5;28;01melse\u001b[39;00m:\n\u001b[1;32m   6198\u001b[0m     keyarr, indexer, new_indexer \u001b[38;5;241m=\u001b[39m \u001b[38;5;28mself\u001b[39m\u001b[38;5;241m.\u001b[39m_reindex_non_unique(keyarr)\n\u001b[0;32m-> 6200\u001b[0m \u001b[38;5;28mself\u001b[39m\u001b[38;5;241m.\u001b[39m_raise_if_missing(keyarr, indexer, axis_name)\n\u001b[1;32m   6202\u001b[0m keyarr \u001b[38;5;241m=\u001b[39m \u001b[38;5;28mself\u001b[39m\u001b[38;5;241m.\u001b[39mtake(indexer)\n\u001b[1;32m   6203\u001b[0m \u001b[38;5;28;01mif\u001b[39;00m \u001b[38;5;28misinstance\u001b[39m(key, Index):\n\u001b[1;32m   6204\u001b[0m     \u001b[38;5;66;03m# GH 42790 - Preserve name from an Index\u001b[39;00m\n",
      "File \u001b[0;32m~/Arquivos/conda/envs/ML/lib/python3.11/site-packages/pandas/core/indexes/base.py:6249\u001b[0m, in \u001b[0;36mIndex._raise_if_missing\u001b[0;34m(self, key, indexer, axis_name)\u001b[0m\n\u001b[1;32m   6247\u001b[0m \u001b[38;5;28;01mif\u001b[39;00m nmissing:\n\u001b[1;32m   6248\u001b[0m     \u001b[38;5;28;01mif\u001b[39;00m nmissing \u001b[38;5;241m==\u001b[39m \u001b[38;5;28mlen\u001b[39m(indexer):\n\u001b[0;32m-> 6249\u001b[0m         \u001b[38;5;28;01mraise\u001b[39;00m \u001b[38;5;167;01mKeyError\u001b[39;00m(\u001b[38;5;124mf\u001b[39m\u001b[38;5;124m\"\u001b[39m\u001b[38;5;124mNone of [\u001b[39m\u001b[38;5;132;01m{\u001b[39;00mkey\u001b[38;5;132;01m}\u001b[39;00m\u001b[38;5;124m] are in the [\u001b[39m\u001b[38;5;132;01m{\u001b[39;00maxis_name\u001b[38;5;132;01m}\u001b[39;00m\u001b[38;5;124m]\u001b[39m\u001b[38;5;124m\"\u001b[39m)\n\u001b[1;32m   6251\u001b[0m     not_found \u001b[38;5;241m=\u001b[39m \u001b[38;5;28mlist\u001b[39m(ensure_index(key)[missing_mask\u001b[38;5;241m.\u001b[39mnonzero()[\u001b[38;5;241m0\u001b[39m]]\u001b[38;5;241m.\u001b[39munique())\n\u001b[1;32m   6252\u001b[0m     \u001b[38;5;28;01mraise\u001b[39;00m \u001b[38;5;167;01mKeyError\u001b[39;00m(\u001b[38;5;124mf\u001b[39m\u001b[38;5;124m\"\u001b[39m\u001b[38;5;132;01m{\u001b[39;00mnot_found\u001b[38;5;132;01m}\u001b[39;00m\u001b[38;5;124m not in index\u001b[39m\u001b[38;5;124m\"\u001b[39m)\n",
      "\u001b[0;31mKeyError\u001b[0m: \"None of [Index(['maxtemp', 'temparature', 'mintemp', 'dewpoint'], dtype='object')] are in the [columns]\""
     ]
    }
   ],
   "source": [
    "# Selecionando as Colunas\n",
    "reducao = data_teste[colunas]\n",
    "\n",
    "# Normalizando os dados (PCA funciona melhor com dados padronizados)\n",
    "scaler = StandardScaler()\n",
    "reducao_scalada = scaler.fit_transform(reducao)\n",
    "\n",
    "# Aplicar PCA\n",
    "pca = PCA(n_components=1)  # Reduzindo para 2 componentes\n",
    "reducao_unificada = pca.fit_transform(reducao_scalada)\n",
    "\n",
    "# Criar um DataFrame com os novos componentes\n",
    "temp2 = pd.DataFrame(reducao_unificada, columns=['PCA1_B'])\n",
    "\n",
    "print(pca.explained_variance_ratio_)"
   ]
  },
  {
   "cell_type": "code",
   "execution_count": 7,
   "id": "4d8fb520-6c68-46b7-ad96-3a1c8aed0b68",
   "metadata": {},
   "outputs": [
    {
     "data": {
      "text/html": [
       "<div>\n",
       "<style scoped>\n",
       "    .dataframe tbody tr th:only-of-type {\n",
       "        vertical-align: middle;\n",
       "    }\n",
       "\n",
       "    .dataframe tbody tr th {\n",
       "        vertical-align: top;\n",
       "    }\n",
       "\n",
       "    .dataframe thead th {\n",
       "        text-align: right;\n",
       "    }\n",
       "</style>\n",
       "<table border=\"1\" class=\"dataframe\">\n",
       "  <thead>\n",
       "    <tr style=\"text-align: right;\">\n",
       "      <th></th>\n",
       "      <th>id</th>\n",
       "      <th>day</th>\n",
       "      <th>pressure</th>\n",
       "      <th>humidity</th>\n",
       "      <th>cloud</th>\n",
       "      <th>sunshine</th>\n",
       "      <th>winddirection</th>\n",
       "      <th>windspeed</th>\n",
       "      <th>rainfall</th>\n",
       "      <th>Temp_unificada</th>\n",
       "    </tr>\n",
       "  </thead>\n",
       "  <tbody>\n",
       "    <tr>\n",
       "      <th>0</th>\n",
       "      <td>0</td>\n",
       "      <td>1</td>\n",
       "      <td>1017.4</td>\n",
       "      <td>87.0</td>\n",
       "      <td>88.0</td>\n",
       "      <td>1.1</td>\n",
       "      <td>60.0</td>\n",
       "      <td>17.2</td>\n",
       "      <td>1</td>\n",
       "      <td>-1.105581</td>\n",
       "    </tr>\n",
       "    <tr>\n",
       "      <th>1</th>\n",
       "      <td>1</td>\n",
       "      <td>2</td>\n",
       "      <td>1019.5</td>\n",
       "      <td>95.0</td>\n",
       "      <td>91.0</td>\n",
       "      <td>0.0</td>\n",
       "      <td>50.0</td>\n",
       "      <td>21.9</td>\n",
       "      <td>1</td>\n",
       "      <td>-2.685513</td>\n",
       "    </tr>\n",
       "    <tr>\n",
       "      <th>2</th>\n",
       "      <td>2</td>\n",
       "      <td>3</td>\n",
       "      <td>1024.1</td>\n",
       "      <td>75.0</td>\n",
       "      <td>47.0</td>\n",
       "      <td>8.3</td>\n",
       "      <td>70.0</td>\n",
       "      <td>18.1</td>\n",
       "      <td>1</td>\n",
       "      <td>-3.164962</td>\n",
       "    </tr>\n",
       "    <tr>\n",
       "      <th>3</th>\n",
       "      <td>3</td>\n",
       "      <td>4</td>\n",
       "      <td>1013.4</td>\n",
       "      <td>95.0</td>\n",
       "      <td>95.0</td>\n",
       "      <td>0.0</td>\n",
       "      <td>60.0</td>\n",
       "      <td>35.6</td>\n",
       "      <td>1</td>\n",
       "      <td>-2.190972</td>\n",
       "    </tr>\n",
       "    <tr>\n",
       "      <th>4</th>\n",
       "      <td>4</td>\n",
       "      <td>5</td>\n",
       "      <td>1021.8</td>\n",
       "      <td>52.0</td>\n",
       "      <td>45.0</td>\n",
       "      <td>3.6</td>\n",
       "      <td>40.0</td>\n",
       "      <td>24.8</td>\n",
       "      <td>0</td>\n",
       "      <td>-2.686549</td>\n",
       "    </tr>\n",
       "  </tbody>\n",
       "</table>\n",
       "</div>"
      ],
      "text/plain": [
       "   id  day  pressure  humidity  cloud  sunshine  winddirection  windspeed  \\\n",
       "0   0    1    1017.4      87.0   88.0       1.1           60.0       17.2   \n",
       "1   1    2    1019.5      95.0   91.0       0.0           50.0       21.9   \n",
       "2   2    3    1024.1      75.0   47.0       8.3           70.0       18.1   \n",
       "3   3    4    1013.4      95.0   95.0       0.0           60.0       35.6   \n",
       "4   4    5    1021.8      52.0   45.0       3.6           40.0       24.8   \n",
       "\n",
       "   rainfall  Temp_unificada  \n",
       "0         1       -1.105581  \n",
       "1         1       -2.685513  \n",
       "2         1       -3.164962  \n",
       "3         1       -2.190972  \n",
       "4         0       -2.686549  "
      ]
     },
     "execution_count": 7,
     "metadata": {},
     "output_type": "execute_result"
    }
   ],
   "source": [
    "data_treino = data_treino.drop(columns=colunas)  # Remover variáveis originais\n",
    "data_teste = data_teste.drop(columns=colunas)\n",
    "data_treino['Temp_unificada'] = temp1['PCA1_A']  # Adicionar a nova variável PCA1\n",
    "data_teste['Temp_unificada'] = temp2['PCA1_B']\n",
    "\n",
    "data_treino.head()"
   ]
  },
  {
   "cell_type": "markdown",
   "id": "c4f98275-caac-411a-8188-11427a63ea36",
   "metadata": {},
   "source": [
    "## CatBoost"
   ]
  },
  {
   "cell_type": "code",
   "execution_count": null,
   "id": "1862e2a9-f705-40a6-a366-4ce29c641954",
   "metadata": {},
   "outputs": [],
   "source": []
  },
  {
   "cell_type": "markdown",
   "id": "d3e7d65f-f59c-4ed7-ab24-2017d1108bea",
   "metadata": {
    "jp-MarkdownHeadingCollapsed": true
   },
   "source": [
    "## Função para salvar novos Dataframes"
   ]
  },
  {
   "cell_type": "code",
   "execution_count": 9,
   "id": "02fae281-f970-4c75-a64f-8dfdf8a16570",
   "metadata": {},
   "outputs": [],
   "source": [
    "destino_treino = '/home/caio/github/k-3/data/train_tratado.csv'\n",
    "destino_teste = '/home/caio/github/k-3/data/teste_tratado.csv'\n",
    "\n",
    "data_treino.to_csv(destino_treino, index=False)\n",
    "data_teste.to_csv(destino_teste, index=False)"
   ]
  },
  {
   "cell_type": "code",
   "execution_count": null,
   "id": "928beb9b-284a-428e-bee5-0147d8cf1b18",
   "metadata": {},
   "outputs": [],
   "source": []
  }
 ],
 "metadata": {
  "kernelspec": {
   "display_name": "Python 3 (ipykernel)",
   "language": "python",
   "name": "python3"
  },
  "language_info": {
   "codemirror_mode": {
    "name": "ipython",
    "version": 3
   },
   "file_extension": ".py",
   "mimetype": "text/x-python",
   "name": "python",
   "nbconvert_exporter": "python",
   "pygments_lexer": "ipython3",
   "version": "3.11.5"
  }
 },
 "nbformat": 4,
 "nbformat_minor": 5
}
