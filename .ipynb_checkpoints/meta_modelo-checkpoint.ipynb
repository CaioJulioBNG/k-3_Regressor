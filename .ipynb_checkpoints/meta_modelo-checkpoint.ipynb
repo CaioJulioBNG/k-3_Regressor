{
 "cells": [
  {
   "cell_type": "code",
   "execution_count": 2,
   "id": "409ea766-53e2-4f5a-a82d-7c8ddbc5c0f9",
   "metadata": {},
   "outputs": [
    {
     "name": "stderr",
     "output_type": "stream",
     "text": [
      "2025-03-16 23:59:17.570264: I tensorflow/core/platform/cpu_feature_guard.cc:182] This TensorFlow binary is optimized to use available CPU instructions in performance-critical operations.\n",
      "To enable the following instructions: SSE4.1 SSE4.2, in other operations, rebuild TensorFlow with the appropriate compiler flags.\n"
     ]
    }
   ],
   "source": [
    "import pandas as pd\n",
    "import tensorflow as tf\n",
    "from sklearn.model_selection import train_test_split\n",
    "from sklearn.preprocessing import StandardScaler\n",
    "from tensorflow.keras.callbacks import EarlyStopping\n"
   ]
  },
  {
   "cell_type": "code",
   "execution_count": 7,
   "id": "0e51ce03-bc72-4d2b-b3c6-9f81ead355c4",
   "metadata": {},
   "outputs": [],
   "source": [
    "modelo_neural_1 = pd.read_csv('ensemble/Neural_v1.csv')\n",
    "modelo_catboost_1 = pd.read_csv('ensemble/Cat_v1.3.csv')\n",
    "modelo_catboost_2 = pd.read_csv('ensemble/cat_k3v2')\n",
    "modelo_catclassifier_1 = pd.read_csv('ensemble/Cat_Classifier.csv')\n",
    "modelo_knn_1 = pd.read_csv('ensemble/KNN.csv')\n",
    "modelo_linear_1 = pd.read_csv('ensemble/Linear_v1.csv')"
   ]
  },
  {
   "cell_type": "code",
   "execution_count": 9,
   "id": "24b3eb08-849e-46a2-adc8-6f3d853bde06",
   "metadata": {},
   "outputs": [
    {
     "name": "stdout",
     "output_type": "stream",
     "text": [
      "CSV salvo com sucesso!\n"
     ]
    }
   ],
   "source": [
    "import numpy as np\n",
    "import pandas as pd\n",
    "from scipy.stats import mode\n",
    "\n",
    "def ensemble_predictions(predictions, method='mean'):\n",
    "    \"\"\"\n",
    "    Combina previsões de múltiplos modelos e retorna a agregação escolhida.\n",
    "\n",
    "    :param predictions: Lista de arrays com previsões dos modelos.\n",
    "    :param method: Método de agregação ('mean', 'median', 'mode').\n",
    "    :return: Array com as previsões combinadas.\n",
    "    \"\"\"\n",
    "    predictions = np.array(predictions)  # Converte para numpy array para facilitar cálculos\n",
    "\n",
    "    if method == 'mean':\n",
    "        return np.mean(predictions, axis=0)  # Média das previsões\n",
    "    elif method == 'median':\n",
    "        return np.median(predictions, axis=0)  # Mediana das previsões\n",
    "    elif method == 'mode':\n",
    "        return mode(predictions, axis=0).mode[0]  # Moda das previsões\n",
    "    else:\n",
    "        raise ValueError(\"Método inválido. Escolha 'mean', 'median' ou 'mode'.\")\n",
    "\n",
    "# Carregar previsões dos modelos a partir de CSVs\n",
    "modelos = [\n",
    "    'ensemble/Neural_v1.csv',\n",
    "    'ensemble/Cat_v1.3.csv',\n",
    "    'ensemble/cat_k3v2',\n",
    "    'ensemble/Cat_Classifier.csv',\n",
    "    'ensemble/KNN.csv',\n",
    "    'ensemble/Linear_v1.csv'\n",
    "]\n",
    "\n",
    "previsoes_modelos = []\n",
    "id_coluna = None\n",
    "\n",
    "for modelo in modelos:\n",
    "    df = pd.read_csv(modelo)\n",
    "    if id_coluna is None:\n",
    "        id_coluna = df['id'].values  # Preserva os IDs do primeiro arquivo\n",
    "    previsoes_modelos.append(df['rainfall'].values)  # Apenas a coluna 'rainfall'\n",
    "\n",
    "# Combinar previsões\n",
    "resultado = ensemble_predictions(previsoes_modelos, method='mode')\n",
    "\n",
    "# Criar DataFrame com ID e valores de 'rainfall'\n",
    "output_df = pd.DataFrame({'id': id_coluna, 'rainfall': resultado})\n",
    "\n",
    "# Salvar como CSV\n",
    "output_df.to_csv('ensemble_predictions.csv', index=False)\n",
    "\n",
    "print(\"CSV salvo com sucesso!\")\n"
   ]
  },
  {
   "cell_type": "code",
   "execution_count": 4,
   "id": "58244b6f-ecb1-4401-9de5-479beb01bde5",
   "metadata": {},
   "outputs": [
    {
     "name": "stdout",
     "output_type": "stream",
     "text": [
      "Epoch 1/100\n",
      "55/55 [==============================] - 1s 10ms/step - loss: 0.1733 - val_loss: 0.0900\n",
      "Epoch 2/100\n",
      "55/55 [==============================] - 0s 6ms/step - loss: 0.0764 - val_loss: 0.0727\n",
      "Epoch 3/100\n",
      "55/55 [==============================] - 0s 8ms/step - loss: 0.0677 - val_loss: 0.0670\n",
      "Epoch 4/100\n",
      "55/55 [==============================] - 0s 8ms/step - loss: 0.0601 - val_loss: 0.0634\n",
      "Epoch 5/100\n",
      "55/55 [==============================] - 0s 4ms/step - loss: 0.0587 - val_loss: 0.0631\n",
      "Epoch 6/100\n",
      "55/55 [==============================] - 0s 4ms/step - loss: 0.0576 - val_loss: 0.0624\n",
      "Epoch 7/100\n",
      "55/55 [==============================] - 0s 6ms/step - loss: 0.0559 - val_loss: 0.0643\n",
      "Epoch 8/100\n",
      "55/55 [==============================] - 0s 7ms/step - loss: 0.0542 - val_loss: 0.0597\n",
      "Epoch 9/100\n",
      "55/55 [==============================] - 0s 6ms/step - loss: 0.0538 - val_loss: 0.0601\n",
      "Epoch 10/100\n",
      "55/55 [==============================] - 0s 7ms/step - loss: 0.0524 - val_loss: 0.0575\n",
      "Epoch 11/100\n",
      "55/55 [==============================] - 0s 6ms/step - loss: 0.0529 - val_loss: 0.0577\n",
      "Epoch 12/100\n",
      "55/55 [==============================] - 0s 7ms/step - loss: 0.0517 - val_loss: 0.0573\n",
      "Epoch 13/100\n",
      "55/55 [==============================] - 0s 7ms/step - loss: 0.0530 - val_loss: 0.0584\n",
      "Epoch 14/100\n",
      "55/55 [==============================] - 0s 7ms/step - loss: 0.0506 - val_loss: 0.0573\n",
      "Epoch 15/100\n",
      "55/55 [==============================] - 0s 6ms/step - loss: 0.0515 - val_loss: 0.0560\n",
      "Epoch 16/100\n",
      "55/55 [==============================] - 0s 7ms/step - loss: 0.0521 - val_loss: 0.0600\n",
      "Epoch 17/100\n",
      "55/55 [==============================] - 0s 6ms/step - loss: 0.0505 - val_loss: 0.0561\n",
      "Epoch 18/100\n",
      "55/55 [==============================] - 0s 8ms/step - loss: 0.0504 - val_loss: 0.0587\n",
      "Epoch 19/100\n",
      "55/55 [==============================] - 1s 9ms/step - loss: 0.0506 - val_loss: 0.0586\n",
      "Epoch 20/100\n",
      "55/55 [==============================] - 0s 8ms/step - loss: 0.0499 - val_loss: 0.0584\n"
     ]
    },
    {
     "data": {
      "text/plain": [
       "<keras.callbacks.History at 0x7fe38006a810>"
      ]
     },
     "execution_count": 4,
     "metadata": {},
     "output_type": "execute_result"
    }
   ],
   "source": []
  },
  {
   "cell_type": "code",
   "execution_count": 5,
   "id": "8b29fa2d-feb2-4e6e-8026-5f1a65eef390",
   "metadata": {},
   "outputs": [
    {
     "name": "stdout",
     "output_type": "stream",
     "text": [
      "23/23 [==============================] - 0s 4ms/step\n"
     ]
    }
   ],
   "source": []
  },
  {
   "cell_type": "code",
   "execution_count": 6,
   "id": "07c687ab-cf73-4d22-add5-20af639d1df8",
   "metadata": {},
   "outputs": [],
   "source": [
    "caminho_destino = 'ensemble/final_v1'\n",
    "resultado = pd.DataFrame({\n",
    "    'id': data_teste['id'],\n",
    "    'rainfall': previsao.flatten() \n",
    "})\n",
    "\n",
    "resultado.to_csv(caminho_destino, index=False)"
   ]
  },
  {
   "cell_type": "code",
   "execution_count": null,
   "id": "78ac270b-c912-4b4a-8a51-6be95b601061",
   "metadata": {},
   "outputs": [],
   "source": []
  }
 ],
 "metadata": {
  "kernelspec": {
   "display_name": "Python 3 (ipykernel)",
   "language": "python",
   "name": "python3"
  },
  "language_info": {
   "codemirror_mode": {
    "name": "ipython",
    "version": 3
   },
   "file_extension": ".py",
   "mimetype": "text/x-python",
   "name": "python",
   "nbconvert_exporter": "python",
   "pygments_lexer": "ipython3",
   "version": "3.11.5"
  }
 },
 "nbformat": 4,
 "nbformat_minor": 5
}
