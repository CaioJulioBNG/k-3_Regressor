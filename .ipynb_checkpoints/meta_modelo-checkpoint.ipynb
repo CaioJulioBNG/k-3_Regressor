{
 "cells": [
  {
   "cell_type": "code",
   "execution_count": 13,
   "id": "409ea766-53e2-4f5a-a82d-7c8ddbc5c0f9",
   "metadata": {},
   "outputs": [],
   "source": [
    "import pandas as pd\n",
    "import tensorflow as tf\n",
    "from sklearn.model_selection import train_test_split\n",
    "from sklearn.preprocessing import StandardScaler\n",
    "from tensorflow.keras.callbacks import EarlyStopping\n"
   ]
  },
  {
   "cell_type": "code",
   "execution_count": 2,
   "id": "0e51ce03-bc72-4d2b-b3c6-9f81ead355c4",
   "metadata": {},
   "outputs": [],
   "source": [
    "data_treino = pd.read_csv('/home/caio/github/k-3/data/train.csv')\n",
    "data_teste = pd.read_csv('/home/caio/github/k-3/data/test.csv')\n",
    "\n",
    "\n",
    "# Carregar as previsões dos arquivos CSV\n",
    "df_lr_predictions = pd.read_csv('/home/caio/github/k-3/meta_features/lr_final.csv')\n",
    "df_catboost_predictions = pd.read_csv('/home/caio/github/k-3/meta_features/cat_final.csv')\n",
    "df_neutal_predictions = pd.read_csv('/home/caio/github/k-3/meta_features/neural_final.csv')\n",
    "\n",
    "\n",
    "df_lr_predictions_teste = pd.read_csv('/home/caio/github/k-3/meta_features/lr_treino.csv')\n",
    "df_catboost_predictions_teste = pd.read_csv('/home/caio/github/k-3/meta_features/cat_treino.csv')\n",
    "df_neural_predictions_teste = pd.read_csv('/home/caio/github/k-3/meta_features/neural_teste.csv')\n",
    "\n",
    "\n",
    "# Empilhar as previsões dos modelos base em um novo conjunto de dados\n",
    "meta_features_previsao = pd.concat([df_lr_predictions, df_catboost_predictions, df_neutal_predictions], axis=1)\n",
    "meta_features = pd.concat([df_lr_predictions_teste, df_catboost_predictions_teste, df_neural_predictions_teste], axis=1)\n",
    "\n",
    "\n",
    "\n",
    "\n",
    "data_treino = pd.read_csv('/home/caio/github/k-3/data/train.csv')\n",
    "data_teste = pd.read_csv('/home/caio/github/k-3/data/test.csv')"
   ]
  },
  {
   "cell_type": "code",
   "execution_count": 3,
   "id": "c259ee69-0585-43b4-8cca-fe81fd4988e7",
   "metadata": {},
   "outputs": [],
   "source": [
    "target_treino = data_treino.pop('rainfall')                   # Target Treino"
   ]
  },
  {
   "cell_type": "code",
   "execution_count": 28,
   "id": "24b3eb08-849e-46a2-adc8-6f3d853bde06",
   "metadata": {},
   "outputs": [],
   "source": [
    "X_train, X_val, y_train, y_val = train_test_split(meta_features, target_treino, test_size=0.2, random_state=42)\n",
    "\n",
    "model_meta = tf.keras.Sequential([\n",
    "    tf.keras.layers.InputLayer(input_shape=(X_train.shape[1],)),\n",
    "    tf.keras.layers.Dense(128, activation='relu'),\n",
    "    tf.keras.layers.Dropout(0.2),  # Adicionando camada de Dropout\n",
    "    tf.keras.layers.Dense(64, activation='relu'),\n",
    "    tf.keras.layers.Dense(1)  # Output layer (regressão)\n",
    "])"
   ]
  },
  {
   "cell_type": "code",
   "execution_count": 29,
   "id": "58244b6f-ecb1-4401-9de5-479beb01bde5",
   "metadata": {},
   "outputs": [
    {
     "name": "stdout",
     "output_type": "stream",
     "text": [
      "Epoch 1/100\n",
      "55/55 [==============================] - 1s 11ms/step - loss: 0.1453 - val_loss: 0.0894\n",
      "Epoch 2/100\n",
      "55/55 [==============================] - 0s 8ms/step - loss: 0.0746 - val_loss: 0.0738\n",
      "Epoch 3/100\n",
      "55/55 [==============================] - 0s 8ms/step - loss: 0.0657 - val_loss: 0.0664\n",
      "Epoch 4/100\n",
      "55/55 [==============================] - 1s 9ms/step - loss: 0.0607 - val_loss: 0.0650\n",
      "Epoch 5/100\n",
      "55/55 [==============================] - 0s 7ms/step - loss: 0.0577 - val_loss: 0.0612\n",
      "Epoch 6/100\n",
      "55/55 [==============================] - 0s 7ms/step - loss: 0.0572 - val_loss: 0.0608\n",
      "Epoch 7/100\n",
      "55/55 [==============================] - 0s 7ms/step - loss: 0.0575 - val_loss: 0.0605\n",
      "Epoch 8/100\n",
      "55/55 [==============================] - 0s 7ms/step - loss: 0.0540 - val_loss: 0.0592\n",
      "Epoch 9/100\n",
      "55/55 [==============================] - 0s 6ms/step - loss: 0.0552 - val_loss: 0.0592\n",
      "Epoch 10/100\n",
      "55/55 [==============================] - 0s 5ms/step - loss: 0.0542 - val_loss: 0.0601\n",
      "Epoch 11/100\n",
      "55/55 [==============================] - 0s 6ms/step - loss: 0.0519 - val_loss: 0.0585\n",
      "Epoch 12/100\n",
      "55/55 [==============================] - 0s 8ms/step - loss: 0.0518 - val_loss: 0.0570\n",
      "Epoch 13/100\n",
      "55/55 [==============================] - 1s 10ms/step - loss: 0.0515 - val_loss: 0.0594\n",
      "Epoch 14/100\n",
      "55/55 [==============================] - 1s 10ms/step - loss: 0.0519 - val_loss: 0.0594\n",
      "Epoch 15/100\n",
      "55/55 [==============================] - 0s 7ms/step - loss: 0.0528 - val_loss: 0.0595\n",
      "Epoch 16/100\n",
      "55/55 [==============================] - 0s 8ms/step - loss: 0.0505 - val_loss: 0.0576\n",
      "Epoch 17/100\n",
      "55/55 [==============================] - 0s 6ms/step - loss: 0.0505 - val_loss: 0.0563\n",
      "Epoch 18/100\n",
      "55/55 [==============================] - 0s 7ms/step - loss: 0.0510 - val_loss: 0.0574\n",
      "Epoch 19/100\n",
      "55/55 [==============================] - 0s 7ms/step - loss: 0.0503 - val_loss: 0.0562\n",
      "Epoch 20/100\n",
      "55/55 [==============================] - 0s 5ms/step - loss: 0.0522 - val_loss: 0.0576\n",
      "Epoch 21/100\n",
      "55/55 [==============================] - 0s 7ms/step - loss: 0.0509 - val_loss: 0.0560\n",
      "Epoch 22/100\n",
      "55/55 [==============================] - 0s 7ms/step - loss: 0.0496 - val_loss: 0.0565\n",
      "Epoch 23/100\n",
      "55/55 [==============================] - 1s 10ms/step - loss: 0.0503 - val_loss: 0.0560\n",
      "Epoch 24/100\n",
      "55/55 [==============================] - 0s 8ms/step - loss: 0.0500 - val_loss: 0.0628\n",
      "Epoch 25/100\n",
      "55/55 [==============================] - 0s 7ms/step - loss: 0.0506 - val_loss: 0.0609\n",
      "Epoch 26/100\n",
      "55/55 [==============================] - 0s 7ms/step - loss: 0.0510 - val_loss: 0.0549\n",
      "Epoch 27/100\n",
      "55/55 [==============================] - 0s 9ms/step - loss: 0.0500 - val_loss: 0.0566\n",
      "Epoch 28/100\n",
      "55/55 [==============================] - 1s 11ms/step - loss: 0.0478 - val_loss: 0.0578\n",
      "Epoch 29/100\n",
      "55/55 [==============================] - 0s 8ms/step - loss: 0.0499 - val_loss: 0.0614\n",
      "Epoch 30/100\n",
      "55/55 [==============================] - 0s 7ms/step - loss: 0.0482 - val_loss: 0.0553\n",
      "Epoch 31/100\n",
      "55/55 [==============================] - 0s 7ms/step - loss: 0.0492 - val_loss: 0.0553\n"
     ]
    },
    {
     "data": {
      "text/plain": [
       "<keras.callbacks.History at 0x7f84960940d0>"
      ]
     },
     "execution_count": 29,
     "metadata": {},
     "output_type": "execute_result"
    }
   ],
   "source": [
    "early_stopping = EarlyStopping(monitor='val_loss', patience=5, restore_best_weights=True)\n",
    "\n",
    "\n",
    "\n",
    "# Compilar o modelo\n",
    "model_meta.compile(optimizer=tf.keras.optimizers.Adam(learning_rate=0.001), loss='mean_squared_error')\n",
    "\n",
    "# Treinar o meta-modelo\n",
    "\n",
    "model_meta.fit(X_train, y_train, epochs=100, batch_size=32, validation_data=(X_val, y_val), callbacks=[early_stopping])\n",
    "\n"
   ]
  },
  {
   "cell_type": "code",
   "execution_count": 6,
   "id": "8b29fa2d-feb2-4e6e-8026-5f1a65eef390",
   "metadata": {},
   "outputs": [
    {
     "name": "stdout",
     "output_type": "stream",
     "text": [
      "23/23 [==============================] - 0s 2ms/step\n"
     ]
    }
   ],
   "source": [
    "previsao = model_meta.predict(meta_features_previsao)"
   ]
  },
  {
   "cell_type": "code",
   "execution_count": 7,
   "id": "07c687ab-cf73-4d22-add5-20af639d1df8",
   "metadata": {},
   "outputs": [],
   "source": [
    "caminho_destino = 'previsoes/linear/Meta_v1.csv'\n",
    "resultado = pd.DataFrame({\n",
    "    'id': data_teste['id'],\n",
    "    'rainfall': previsao.flatten() \n",
    "})\n",
    "\n",
    "resultado.to_csv(caminho_destino, index=False)"
   ]
  },
  {
   "cell_type": "code",
   "execution_count": null,
   "id": "78ac270b-c912-4b4a-8a51-6be95b601061",
   "metadata": {},
   "outputs": [],
   "source": []
  }
 ],
 "metadata": {
  "kernelspec": {
   "display_name": "Python 3 (ipykernel)",
   "language": "python",
   "name": "python3"
  },
  "language_info": {
   "codemirror_mode": {
    "name": "ipython",
    "version": 3
   },
   "file_extension": ".py",
   "mimetype": "text/x-python",
   "name": "python",
   "nbconvert_exporter": "python",
   "pygments_lexer": "ipython3",
   "version": "3.11.5"
  }
 },
 "nbformat": 4,
 "nbformat_minor": 5
}
