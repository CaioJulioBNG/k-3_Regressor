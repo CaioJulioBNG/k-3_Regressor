{
 "cells": [
  {
   "cell_type": "markdown",
   "id": "9bed2cd9-b0fd-4e79-8c95-42f88a56f79b",
   "metadata": {},
   "source": [
    "## Importações"
   ]
  },
  {
   "cell_type": "code",
   "execution_count": 1,
   "id": "89d71d3d-2e86-4df9-8715-7200d3a2c3fc",
   "metadata": {},
   "outputs": [],
   "source": [
    "import numpy as np\n",
    "import pandas as pd\n",
    "from catboost import CatBoostClassifier\n",
    "from sklearn.model_selection import train_test_split\n",
    "from sklearn.metrics import roc_auc_score"
   ]
  },
  {
   "cell_type": "markdown",
   "id": "1b673101-241f-4885-adc3-4dd6014403a6",
   "metadata": {},
   "source": [
    "## Carga de Dados"
   ]
  },
  {
   "cell_type": "code",
   "execution_count": 2,
   "id": "99ff4fee-6328-4e59-85a4-ee7c15688b40",
   "metadata": {},
   "outputs": [],
   "source": [
    "data_treino = pd.read_csv('/home/caio/github/k-3/data/train.csv')\n",
    "data_teste = pd.read_csv('/home/caio/github/k-3/data/test.csv')\n",
    "data_zero = pd.read_csv('/home/caio/github/k-3/data/test.csv')"
   ]
  },
  {
   "cell_type": "markdown",
   "id": "e4946992-3711-4c3b-ba91-c9c2714178c9",
   "metadata": {},
   "source": [
    "## Feature Engineer"
   ]
  },
  {
   "cell_type": "code",
   "execution_count": 3,
   "id": "0ce03768-776d-4d5b-af49-49e3655bafa7",
   "metadata": {},
   "outputs": [],
   "source": [
    "# Supondo que seu DataFrame se chame df\n",
    "data_treino[\"cloud_humidity\"] = data_treino[\"cloud\"] * data_treino[\"humidity\"]\n"
   ]
  },
  {
   "cell_type": "code",
   "execution_count": 4,
   "id": "7923a8d1-ca5b-4b9e-a024-6e48e223eca7",
   "metadata": {},
   "outputs": [],
   "source": [
    "# Supondo que seu DataFrame se chame df\n",
    "data_teste[\"cloud_humidity\"] = data_teste[\"cloud\"] * data_teste[\"humidity\"]\n",
    "data_teste[\"cloud_pressure\"] = data_teste[\"cloud\"] / data_teste[\"pressure\"]\n",
    "data_teste[\"cloud_windspeed\"] = data_teste[\"cloud\"] * data_teste[\"windspeed\"]\n",
    "data_teste[\"cloud_index\"] = (data_teste[\"cloud\"] + data_teste[\"humidity\"]) / 2\n",
    "\n",
    "data_teste[\"humidity_cloud\"] = data_teste[\"humidity\"] * data_teste[\"cloud\"]\n",
    "data_teste[\"humidity_pressure\"] = data_teste[\"humidity\"] / data_teste[\"pressure\"]\n",
    "data_teste[\"humidity_temp\"] = data_teste[\"humidity\"] * data_teste[\"temparature\"]"
   ]
  },
  {
   "cell_type": "code",
   "execution_count": 5,
   "id": "753aaba5-9639-4abe-8e63-e9962670e0f9",
   "metadata": {},
   "outputs": [],
   "source": [
    "#data_treino = data_treino.drop(columns=[\"dewpoint\"])\n",
    "#data_treino = data_treino.drop(columns=[\"winddirection\"])\n",
    "data_treino = data_treino.drop(columns=[\"day\"])\n",
    "data_treino = data_treino.drop(columns=[\"id\"])\n"
   ]
  },
  {
   "cell_type": "code",
   "execution_count": 6,
   "id": "7a57b768-fe7a-4e4a-b484-62f3fb123409",
   "metadata": {},
   "outputs": [],
   "source": [
    "data_teste = data_teste.drop(columns=[\"dewpoint\"])\n",
    "data_teste = data_teste.drop(columns=[\"day\"])\n",
    "data_teste = data_teste.drop(columns=[\"id\"])\n",
    "data_teste = data_teste.drop(columns=[\"winddirection\"])"
   ]
  },
  {
   "cell_type": "markdown",
   "id": "764586c7-b313-4b52-a61a-56aea5e51ebb",
   "metadata": {},
   "source": [
    "## Divisão Feature / Target"
   ]
  },
  {
   "cell_type": "code",
   "execution_count": 7,
   "id": "fb1bbdad-8cdc-48f2-aee2-19480748e0a2",
   "metadata": {},
   "outputs": [],
   "source": [
    "feature = data_treino.drop(columns=['rainfall'])       # Feature Treino\n",
    "target = data_treino.pop('rainfall')                   # Target Treino\n",
    "feature_final = data_teste                                    # Feature para Teste final"
   ]
  },
  {
   "cell_type": "code",
   "execution_count": 8,
   "id": "38b3f770-7047-4638-a512-c73fa4eb9763",
   "metadata": {},
   "outputs": [],
   "source": [
    "feature_treino, feature_teste, target_treino, target_teste = train_test_split(feature, target, test_size=0.2, random_state=69)"
   ]
  },
  {
   "cell_type": "markdown",
   "id": "1c10ef8a-7593-41ac-8052-7b3393cbd4de",
   "metadata": {},
   "source": [
    "## Criação do Modelo"
   ]
  },
  {
   "cell_type": "code",
   "execution_count": 9,
   "id": "5d2942b2-f7ab-4442-8d6c-ddd3f9826204",
   "metadata": {},
   "outputs": [],
   "source": [
    "model = CatBoostClassifier(\n",
    "    learning_rate=0.01, \n",
    "    l2_leaf_reg=10.0, \n",
    "    iterations=600, \n",
    "    depth=7, \n",
    "    border_count=80, \n",
    "    verbose=0, \n",
    "    random_state=69\n",
    ")\n",
    "\n",
    "modelo = CatBoostClassifier(\n",
    "    learning_rate=0.01, \n",
    "    l2_leaf_reg=10.0, \n",
    "    iterations=600, \n",
    "    depth=7, \n",
    "    border_count=80, \n",
    "    verbose=0, \n",
    "    random_state=69\n",
    ")"
   ]
  },
  {
   "cell_type": "markdown",
   "id": "4cf221b6-911b-471b-958c-54feedcd5aa1",
   "metadata": {},
   "source": [
    "## Treinamento do Modelo de Provisório"
   ]
  },
  {
   "cell_type": "code",
   "execution_count": 10,
   "id": "d1bc7199-8834-42dd-bb6b-26a913c0b318",
   "metadata": {},
   "outputs": [
    {
     "name": "stdout",
     "output_type": "stream",
     "text": [
      "AUC Score: 0.8662\n"
     ]
    }
   ],
   "source": [
    "model.fit(feature_treino, target_treino)\n",
    "previsao_verificadora = model.predict_proba(feature_teste)[:, 1]  # Pegando apenas a probabilidade da classe positiva\n",
    "\n",
    "# Calculando AUC Score\n",
    "auc_score = roc_auc_score(target_teste, previsao_verificadora)\n",
    "print(f\"AUC Score: {auc_score:.4f}\")\n",
    "# mvp 0.8704"
   ]
  },
  {
   "cell_type": "markdown",
   "id": "cbd99dd2-b97e-4df8-9ead-f93550bf8bc2",
   "metadata": {},
   "source": [
    "## Modelo Final"
   ]
  },
  {
   "cell_type": "code",
   "execution_count": 11,
   "id": "89e02699-2570-471d-b87e-0642eb8dbcb5",
   "metadata": {},
   "outputs": [
    {
     "ename": "CatBoostError",
     "evalue": "catboost/libs/data/model_dataset_compatibility.cpp:81: At position 4 should be feature with name dewpoint (found humidity).",
     "output_type": "error",
     "traceback": [
      "\u001b[0;31m---------------------------------------------------------------------------\u001b[0m",
      "\u001b[0;31mCatBoostError\u001b[0m                             Traceback (most recent call last)",
      "Cell \u001b[0;32mIn[11], line 2\u001b[0m\n\u001b[1;32m      1\u001b[0m modelo\u001b[38;5;241m.\u001b[39mfit(feature, target)\n\u001b[0;32m----> 2\u001b[0m previsao \u001b[38;5;241m=\u001b[39m model\u001b[38;5;241m.\u001b[39mpredict_proba(data_teste)[:, \u001b[38;5;241m1\u001b[39m]  \u001b[38;5;66;03m# Pega apenas a probabilidade da classe positiva\u001b[39;00m\n\u001b[1;32m      3\u001b[0m previsao \u001b[38;5;241m=\u001b[39m previsao\u001b[38;5;241m.\u001b[39mflatten()\n",
      "File \u001b[0;32m~/Arquivos/conda/envs/ML/lib/python3.11/site-packages/catboost/core.py:5351\u001b[0m, in \u001b[0;36mCatBoostClassifier.predict_proba\u001b[0;34m(self, X, ntree_start, ntree_end, thread_count, verbose, task_type)\u001b[0m\n\u001b[1;32m   5309\u001b[0m \u001b[38;5;28;01mdef\u001b[39;00m \u001b[38;5;21mpredict_proba\u001b[39m(\u001b[38;5;28mself\u001b[39m, X, ntree_start\u001b[38;5;241m=\u001b[39m\u001b[38;5;241m0\u001b[39m, ntree_end\u001b[38;5;241m=\u001b[39m\u001b[38;5;241m0\u001b[39m, thread_count\u001b[38;5;241m=\u001b[39m\u001b[38;5;241m-\u001b[39m\u001b[38;5;241m1\u001b[39m, verbose\u001b[38;5;241m=\u001b[39m\u001b[38;5;28;01mNone\u001b[39;00m, task_type\u001b[38;5;241m=\u001b[39m\u001b[38;5;124m\"\u001b[39m\u001b[38;5;124mCPU\u001b[39m\u001b[38;5;124m\"\u001b[39m):\n\u001b[1;32m   5310\u001b[0m \u001b[38;5;250m    \u001b[39m\u001b[38;5;124;03m\"\"\"\u001b[39;00m\n\u001b[1;32m   5311\u001b[0m \u001b[38;5;124;03m    Predict class probability with X.\u001b[39;00m\n\u001b[1;32m   5312\u001b[0m \n\u001b[0;32m   (...)\u001b[0m\n\u001b[1;32m   5349\u001b[0m \u001b[38;5;124;03m            with probability for every class for each object.\u001b[39;00m\n\u001b[1;32m   5350\u001b[0m \u001b[38;5;124;03m    \"\"\"\u001b[39;00m\n\u001b[0;32m-> 5351\u001b[0m     \u001b[38;5;28;01mreturn\u001b[39;00m \u001b[38;5;28mself\u001b[39m\u001b[38;5;241m.\u001b[39m_predict(X, \u001b[38;5;124m'\u001b[39m\u001b[38;5;124mProbability\u001b[39m\u001b[38;5;124m'\u001b[39m, ntree_start, ntree_end, thread_count, verbose, \u001b[38;5;124m'\u001b[39m\u001b[38;5;124mpredict_proba\u001b[39m\u001b[38;5;124m'\u001b[39m, task_type)\n",
      "File \u001b[0;32m~/Arquivos/conda/envs/ML/lib/python3.11/site-packages/catboost/core.py:2623\u001b[0m, in \u001b[0;36mCatBoost._predict\u001b[0;34m(self, data, prediction_type, ntree_start, ntree_end, thread_count, verbose, parent_method_name, task_type)\u001b[0m\n\u001b[1;32m   2620\u001b[0m data, data_is_single_object \u001b[38;5;241m=\u001b[39m \u001b[38;5;28mself\u001b[39m\u001b[38;5;241m.\u001b[39m_process_predict_input_data(data, parent_method_name, thread_count)\n\u001b[1;32m   2621\u001b[0m \u001b[38;5;28mself\u001b[39m\u001b[38;5;241m.\u001b[39m_validate_prediction_type(prediction_type)\n\u001b[0;32m-> 2623\u001b[0m predictions \u001b[38;5;241m=\u001b[39m \u001b[38;5;28mself\u001b[39m\u001b[38;5;241m.\u001b[39m_base_predict(data, prediction_type, ntree_start, ntree_end, thread_count, verbose, task_type)\n\u001b[1;32m   2624\u001b[0m \u001b[38;5;28;01mreturn\u001b[39;00m predictions[\u001b[38;5;241m0\u001b[39m] \u001b[38;5;28;01mif\u001b[39;00m data_is_single_object \u001b[38;5;28;01melse\u001b[39;00m predictions\n",
      "File \u001b[0;32m~/Arquivos/conda/envs/ML/lib/python3.11/site-packages/catboost/core.py:1842\u001b[0m, in \u001b[0;36m_CatBoostBase._base_predict\u001b[0;34m(self, pool, prediction_type, ntree_start, ntree_end, thread_count, verbose, task_type)\u001b[0m\n\u001b[1;32m   1841\u001b[0m \u001b[38;5;28;01mdef\u001b[39;00m \u001b[38;5;21m_base_predict\u001b[39m(\u001b[38;5;28mself\u001b[39m, pool, prediction_type, ntree_start, ntree_end, thread_count, verbose, task_type):\n\u001b[0;32m-> 1842\u001b[0m     \u001b[38;5;28;01mreturn\u001b[39;00m \u001b[38;5;28mself\u001b[39m\u001b[38;5;241m.\u001b[39m_object\u001b[38;5;241m.\u001b[39m_base_predict(pool, prediction_type, ntree_start, ntree_end, thread_count, verbose, task_type)\n",
      "File \u001b[0;32m_catboost.pyx:5153\u001b[0m, in \u001b[0;36m_catboost._CatBoost._base_predict\u001b[0;34m()\u001b[0m\n",
      "File \u001b[0;32m_catboost.pyx:5160\u001b[0m, in \u001b[0;36m_catboost._CatBoost._base_predict\u001b[0;34m()\u001b[0m\n",
      "\u001b[0;31mCatBoostError\u001b[0m: catboost/libs/data/model_dataset_compatibility.cpp:81: At position 4 should be feature with name dewpoint (found humidity)."
     ]
    }
   ],
   "source": [
    "modelo.fit(feature, target)\n",
    "previsao = model.predict_proba(data_teste)[:, 1]  # Pega apenas a probabilidade da classe positiva\n",
    "previsao = previsao.flatten()  # Ou previsao.ravel()"
   ]
  },
  {
   "cell_type": "code",
   "execution_count": null,
   "id": "7d2b7d45-eb52-4389-836a-6335e987a4f4",
   "metadata": {},
   "outputs": [],
   "source": [
    "caminho_destino = 'previsoes/cat/Cat_Classifier.csv'\n",
    "resultado = pd.DataFrame({\n",
    "    'id': data_zero['id'],\n",
    "    'rainfall': previsao     \n",
    "})\n",
    "\n",
    "resultado.to_csv(caminho_destino, index=False)"
   ]
  },
  {
   "cell_type": "code",
   "execution_count": null,
   "id": "65b268d5-ad66-4aaf-a0c8-a4546bec3b48",
   "metadata": {},
   "outputs": [],
   "source": []
  }
 ],
 "metadata": {
  "kernelspec": {
   "display_name": "Python 3 (ipykernel)",
   "language": "python",
   "name": "python3"
  },
  "language_info": {
   "codemirror_mode": {
    "name": "ipython",
    "version": 3
   },
   "file_extension": ".py",
   "mimetype": "text/x-python",
   "name": "python",
   "nbconvert_exporter": "python",
   "pygments_lexer": "ipython3",
   "version": "3.11.5"
  }
 },
 "nbformat": 4,
 "nbformat_minor": 5
}
