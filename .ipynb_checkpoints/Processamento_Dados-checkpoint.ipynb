{
 "cells": [
  {
   "cell_type": "code",
   "execution_count": 1,
   "id": "8f818c47-b51c-4534-ab8b-828a2299265e",
   "metadata": {},
   "outputs": [],
   "source": [
    "import pandas as pd\n",
    "import matplotlib.pyplot as plt\n",
    "import seaborn as sns\n",
    "from IPython.display import display\n",
    "from sklearn.decomposition import PCA\n",
    "from sklearn.preprocessing import StandardScaler"
   ]
  },
  {
   "cell_type": "code",
   "execution_count": 2,
   "id": "eada6481-408a-483d-a29c-f27123fd89b4",
   "metadata": {},
   "outputs": [],
   "source": [
    "data_treino = pd.read_csv('/home/caio/github/k-3/data/train.csv')\n",
    "data_teste = pd.read_csv('/home/caio/github/k-3/data/test.csv')"
   ]
  },
  {
   "cell_type": "markdown",
   "id": "d20e7f5b-315b-46e0-8e7b-c956874a9286",
   "metadata": {},
   "source": [
    "## Pré-Processamento"
   ]
  },
  {
   "cell_type": "markdown",
   "id": "9fa4c226-6094-4d44-a092-2b159c75aff9",
   "metadata": {},
   "source": [
    "### Normalizando Dewpoint"
   ]
  },
  {
   "cell_type": "code",
   "execution_count": 3,
   "id": "34a067e7-4454-4a45-bb59-1777eadff7a8",
   "metadata": {},
   "outputs": [],
   "source": [
    "data_treino['dewpoint'] = data_treino['dewpoint'].interpolate()\n",
    "data_teste['dewpoint'] = data_treino['dewpoint'].interpolate()"
   ]
  },
  {
   "cell_type": "markdown",
   "id": "36eb09c2-be7f-408d-a7d1-db58b09348aa",
   "metadata": {},
   "source": [
    "### Normalizando Winddirection"
   ]
  },
  {
   "cell_type": "code",
   "execution_count": 4,
   "id": "336ca2a6-6719-4597-ad34-bfc636b44056",
   "metadata": {},
   "outputs": [],
   "source": [
    "data_teste['winddirection'] = data_teste['winddirection'].fillna(104.863151)"
   ]
  },
  {
   "cell_type": "markdown",
   "id": "87bfbb86-5986-465b-a40a-5e5a4049c2a4",
   "metadata": {},
   "source": [
    "### Diminuindo Colunas Maxtemp, Temparature e mintemp (PCA)"
   ]
  },
  {
   "cell_type": "code",
   "execution_count": 5,
   "id": "4348344a-45f2-41b5-90f8-e26640acae84",
   "metadata": {},
   "outputs": [
    {
     "name": "stdout",
     "output_type": "stream",
     "text": [
      "[0.96481135]\n"
     ]
    }
   ],
   "source": [
    "# Selecionando as Colunas\n",
    "colunas = ['maxtemp', 'temparature', 'mintemp', 'dewpoint']\n",
    "reducao = data_treino[colunas]\n",
    "\n",
    "# Normalizando os dados (PCA funciona melhor com dados padronizados)\n",
    "scaler = StandardScaler()\n",
    "reducao_scalada = scaler.fit_transform(reducao)\n",
    "\n",
    "# Aplicar PCA\n",
    "pca = PCA(n_components=1)  # Reduzindo para 2 componentes\n",
    "reducao_unificada = pca.fit_transform(reducao_scalada)\n",
    "\n",
    "# Criar um DataFrame com os novos componentes\n",
    "temp1= pd.DataFrame(reducao_unificada, columns=['PCA1_A'])\n",
    "\n",
    "print(pca.explained_variance_ratio_)"
   ]
  },
  {
   "cell_type": "code",
   "execution_count": 6,
   "id": "ef8d0631-70ba-4e56-ba5d-462343a5054b",
   "metadata": {},
   "outputs": [
    {
     "name": "stdout",
     "output_type": "stream",
     "text": [
      "[0.94114385]\n"
     ]
    }
   ],
   "source": [
    "# Selecionando as Colunas\n",
    "colunas = ['maxtemp', 'temparature', 'mintemp', 'dewpoint']\n",
    "reducao = data_teste[colunas]\n",
    "\n",
    "# Normalizando os dados (PCA funciona melhor com dados padronizados)\n",
    "scaler = StandardScaler()\n",
    "reducao_scalada = scaler.fit_transform(reducao)\n",
    "\n",
    "# Aplicar PCA\n",
    "pca = PCA(n_components=1)  # Reduzindo para 2 componentes\n",
    "reducao_unificada = pca.fit_transform(reducao_scalada)\n",
    "\n",
    "# Criar um DataFrame com os novos componentes\n",
    "temp2 = pd.DataFrame(reducao_unificada, columns=['PCA1_B'])\n",
    "\n",
    "print(pca.explained_variance_ratio_)"
   ]
  },
  {
   "cell_type": "code",
   "execution_count": 8,
   "id": "4d8fb520-6c68-46b7-ad96-3a1c8aed0b68",
   "metadata": {},
   "outputs": [
    {
     "ename": "KeyError",
     "evalue": "\"['maxtemp', 'temparature', 'mintemp', 'dewpoint'] not found in axis\"",
     "output_type": "error",
     "traceback": [
      "\u001b[0;31m---------------------------------------------------------------------------\u001b[0m",
      "\u001b[0;31mKeyError\u001b[0m                                  Traceback (most recent call last)",
      "Cell \u001b[0;32mIn[8], line 1\u001b[0m\n\u001b[0;32m----> 1\u001b[0m data_treino \u001b[38;5;241m=\u001b[39m data_treino\u001b[38;5;241m.\u001b[39mdrop(columns\u001b[38;5;241m=\u001b[39mcolunas)  \u001b[38;5;66;03m# Remover variáveis originais\u001b[39;00m\n\u001b[1;32m      2\u001b[0m data_teste \u001b[38;5;241m=\u001b[39m data_teste\u001b[38;5;241m.\u001b[39mdrop(columns\u001b[38;5;241m=\u001b[39mcolunas)\n\u001b[1;32m      3\u001b[0m data_treino[\u001b[38;5;124m'\u001b[39m\u001b[38;5;124mTemp_unificada\u001b[39m\u001b[38;5;124m'\u001b[39m] \u001b[38;5;241m=\u001b[39m temp1[\u001b[38;5;124m'\u001b[39m\u001b[38;5;124mPCA1_A\u001b[39m\u001b[38;5;124m'\u001b[39m]  \u001b[38;5;66;03m# Adicionar a nova variável PCA1\u001b[39;00m\n",
      "File \u001b[0;32m~/Arquivos/conda/envs/ML/lib/python3.11/site-packages/pandas/core/frame.py:5581\u001b[0m, in \u001b[0;36mDataFrame.drop\u001b[0;34m(self, labels, axis, index, columns, level, inplace, errors)\u001b[0m\n\u001b[1;32m   5433\u001b[0m \u001b[38;5;28;01mdef\u001b[39;00m \u001b[38;5;21mdrop\u001b[39m(\n\u001b[1;32m   5434\u001b[0m     \u001b[38;5;28mself\u001b[39m,\n\u001b[1;32m   5435\u001b[0m     labels: IndexLabel \u001b[38;5;241m|\u001b[39m \u001b[38;5;28;01mNone\u001b[39;00m \u001b[38;5;241m=\u001b[39m \u001b[38;5;28;01mNone\u001b[39;00m,\n\u001b[0;32m   (...)\u001b[0m\n\u001b[1;32m   5442\u001b[0m     errors: IgnoreRaise \u001b[38;5;241m=\u001b[39m \u001b[38;5;124m\"\u001b[39m\u001b[38;5;124mraise\u001b[39m\u001b[38;5;124m\"\u001b[39m,\n\u001b[1;32m   5443\u001b[0m ) \u001b[38;5;241m-\u001b[39m\u001b[38;5;241m>\u001b[39m DataFrame \u001b[38;5;241m|\u001b[39m \u001b[38;5;28;01mNone\u001b[39;00m:\n\u001b[1;32m   5444\u001b[0m \u001b[38;5;250m    \u001b[39m\u001b[38;5;124;03m\"\"\"\u001b[39;00m\n\u001b[1;32m   5445\u001b[0m \u001b[38;5;124;03m    Drop specified labels from rows or columns.\u001b[39;00m\n\u001b[1;32m   5446\u001b[0m \n\u001b[0;32m   (...)\u001b[0m\n\u001b[1;32m   5579\u001b[0m \u001b[38;5;124;03m            weight  1.0     0.8\u001b[39;00m\n\u001b[1;32m   5580\u001b[0m \u001b[38;5;124;03m    \"\"\"\u001b[39;00m\n\u001b[0;32m-> 5581\u001b[0m     \u001b[38;5;28;01mreturn\u001b[39;00m \u001b[38;5;28msuper\u001b[39m()\u001b[38;5;241m.\u001b[39mdrop(\n\u001b[1;32m   5582\u001b[0m         labels\u001b[38;5;241m=\u001b[39mlabels,\n\u001b[1;32m   5583\u001b[0m         axis\u001b[38;5;241m=\u001b[39maxis,\n\u001b[1;32m   5584\u001b[0m         index\u001b[38;5;241m=\u001b[39mindex,\n\u001b[1;32m   5585\u001b[0m         columns\u001b[38;5;241m=\u001b[39mcolumns,\n\u001b[1;32m   5586\u001b[0m         level\u001b[38;5;241m=\u001b[39mlevel,\n\u001b[1;32m   5587\u001b[0m         inplace\u001b[38;5;241m=\u001b[39minplace,\n\u001b[1;32m   5588\u001b[0m         errors\u001b[38;5;241m=\u001b[39merrors,\n\u001b[1;32m   5589\u001b[0m     )\n",
      "File \u001b[0;32m~/Arquivos/conda/envs/ML/lib/python3.11/site-packages/pandas/core/generic.py:4788\u001b[0m, in \u001b[0;36mNDFrame.drop\u001b[0;34m(self, labels, axis, index, columns, level, inplace, errors)\u001b[0m\n\u001b[1;32m   4786\u001b[0m \u001b[38;5;28;01mfor\u001b[39;00m axis, labels \u001b[38;5;129;01min\u001b[39;00m axes\u001b[38;5;241m.\u001b[39mitems():\n\u001b[1;32m   4787\u001b[0m     \u001b[38;5;28;01mif\u001b[39;00m labels \u001b[38;5;129;01mis\u001b[39;00m \u001b[38;5;129;01mnot\u001b[39;00m \u001b[38;5;28;01mNone\u001b[39;00m:\n\u001b[0;32m-> 4788\u001b[0m         obj \u001b[38;5;241m=\u001b[39m obj\u001b[38;5;241m.\u001b[39m_drop_axis(labels, axis, level\u001b[38;5;241m=\u001b[39mlevel, errors\u001b[38;5;241m=\u001b[39merrors)\n\u001b[1;32m   4790\u001b[0m \u001b[38;5;28;01mif\u001b[39;00m inplace:\n\u001b[1;32m   4791\u001b[0m     \u001b[38;5;28mself\u001b[39m\u001b[38;5;241m.\u001b[39m_update_inplace(obj)\n",
      "File \u001b[0;32m~/Arquivos/conda/envs/ML/lib/python3.11/site-packages/pandas/core/generic.py:4830\u001b[0m, in \u001b[0;36mNDFrame._drop_axis\u001b[0;34m(self, labels, axis, level, errors, only_slice)\u001b[0m\n\u001b[1;32m   4828\u001b[0m         new_axis \u001b[38;5;241m=\u001b[39m axis\u001b[38;5;241m.\u001b[39mdrop(labels, level\u001b[38;5;241m=\u001b[39mlevel, errors\u001b[38;5;241m=\u001b[39merrors)\n\u001b[1;32m   4829\u001b[0m     \u001b[38;5;28;01melse\u001b[39;00m:\n\u001b[0;32m-> 4830\u001b[0m         new_axis \u001b[38;5;241m=\u001b[39m axis\u001b[38;5;241m.\u001b[39mdrop(labels, errors\u001b[38;5;241m=\u001b[39merrors)\n\u001b[1;32m   4831\u001b[0m     indexer \u001b[38;5;241m=\u001b[39m axis\u001b[38;5;241m.\u001b[39mget_indexer(new_axis)\n\u001b[1;32m   4833\u001b[0m \u001b[38;5;66;03m# Case for non-unique axis\u001b[39;00m\n\u001b[1;32m   4834\u001b[0m \u001b[38;5;28;01melse\u001b[39;00m:\n",
      "File \u001b[0;32m~/Arquivos/conda/envs/ML/lib/python3.11/site-packages/pandas/core/indexes/base.py:7070\u001b[0m, in \u001b[0;36mIndex.drop\u001b[0;34m(self, labels, errors)\u001b[0m\n\u001b[1;32m   7068\u001b[0m \u001b[38;5;28;01mif\u001b[39;00m mask\u001b[38;5;241m.\u001b[39many():\n\u001b[1;32m   7069\u001b[0m     \u001b[38;5;28;01mif\u001b[39;00m errors \u001b[38;5;241m!=\u001b[39m \u001b[38;5;124m\"\u001b[39m\u001b[38;5;124mignore\u001b[39m\u001b[38;5;124m\"\u001b[39m:\n\u001b[0;32m-> 7070\u001b[0m         \u001b[38;5;28;01mraise\u001b[39;00m \u001b[38;5;167;01mKeyError\u001b[39;00m(\u001b[38;5;124mf\u001b[39m\u001b[38;5;124m\"\u001b[39m\u001b[38;5;132;01m{\u001b[39;00mlabels[mask]\u001b[38;5;241m.\u001b[39mtolist()\u001b[38;5;132;01m}\u001b[39;00m\u001b[38;5;124m not found in axis\u001b[39m\u001b[38;5;124m\"\u001b[39m)\n\u001b[1;32m   7071\u001b[0m     indexer \u001b[38;5;241m=\u001b[39m indexer[\u001b[38;5;241m~\u001b[39mmask]\n\u001b[1;32m   7072\u001b[0m \u001b[38;5;28;01mreturn\u001b[39;00m \u001b[38;5;28mself\u001b[39m\u001b[38;5;241m.\u001b[39mdelete(indexer)\n",
      "\u001b[0;31mKeyError\u001b[0m: \"['maxtemp', 'temparature', 'mintemp', 'dewpoint'] not found in axis\""
     ]
    }
   ],
   "source": [
    "data_treino = data_treino.drop(columns=colunas)  # Remover variáveis originais\n",
    "data_teste = data_teste.drop(columns=colunas)\n",
    "data_treino['Temp_unificada'] = temp1['PCA1_A']  # Adicionar a nova variável PCA1\n",
    "data_teste['Temp_unificada'] = temp2['PCA1_B']\n",
    "\n",
    "data_treino.head()"
   ]
  },
  {
   "cell_type": "code",
   "execution_count": null,
   "id": "e45e1cda-32dd-4e47-ba12-647be2c73cee",
   "metadata": {},
   "outputs": [],
   "source": []
  }
 ],
 "metadata": {
  "kernelspec": {
   "display_name": "Python 3 (ipykernel)",
   "language": "python",
   "name": "python3"
  },
  "language_info": {
   "codemirror_mode": {
    "name": "ipython",
    "version": 3
   },
   "file_extension": ".py",
   "mimetype": "text/x-python",
   "name": "python",
   "nbconvert_exporter": "python",
   "pygments_lexer": "ipython3",
   "version": "3.11.5"
  }
 },
 "nbformat": 4,
 "nbformat_minor": 5
}
