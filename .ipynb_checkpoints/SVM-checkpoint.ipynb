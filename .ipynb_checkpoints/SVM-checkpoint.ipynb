{
 "cells": [
  {
   "cell_type": "code",
   "execution_count": 1,
   "id": "ce84ad42-5270-4f04-a4b4-60824e0cf8e9",
   "metadata": {},
   "outputs": [],
   "source": [
    "from sklearn.svm import SVR\n",
    "from sklearn.model_selection import train_test_split\n",
    "from sklearn.metrics import mean_squared_error\n",
    "import numpy as np\n",
    "import pandas as pd"
   ]
  },
  {
   "cell_type": "code",
   "execution_count": 2,
   "id": "cf271555-83cd-4b25-baf3-57a230c69b2a",
   "metadata": {},
   "outputs": [],
   "source": [
    "data_treino = pd.read_csv('/home/caio/github/k-3/data/train.csv')\n",
    "data_teste = pd.read_csv('/home/caio/github/k-3/data/test.csv')"
   ]
  },
  {
   "cell_type": "code",
   "execution_count": 4,
   "id": "de8bc1a3-7f3b-473c-8acf-09c0ba2d9a57",
   "metadata": {},
   "outputs": [],
   "source": [
    "feature_treino = data_treino.drop(columns=['rainfall']) # Feature Treino\n",
    "target_treino = data_treino.pop('rainfall')    "
   ]
  },
  {
   "cell_type": "code",
   "execution_count": 5,
   "id": "50201288-4a15-4c2a-ad3e-d1e0e50b4ccb",
   "metadata": {},
   "outputs": [],
   "source": [
    "X_train, X_test, y_train, y_test = train_test_split(feature_treino, target_treino, test_size=0.2, random_state=69)\n"
   ]
  },
  {
   "cell_type": "code",
   "execution_count": 6,
   "id": "77c1ad88-b0e3-444e-af84-bf2a93b5d6bd",
   "metadata": {},
   "outputs": [
    {
     "name": "stdout",
     "output_type": "stream",
     "text": [
      "Root Mean Squared Error (SVM Regressor): 0.5307699339601984\n"
     ]
    }
   ],
   "source": [
    "# Criação do modelo SVM Regressor\n",
    "svm_model = SVR(kernel='linear')  # Use 'linear' ou 'rbf' para o kernel\n",
    "svm_model.fit(X_train, y_train)\n",
    "\n",
    "# Previsões\n",
    "y_pred = svm_model.predict(X_test)\n",
    "\n",
    "# Avaliação com RMSE\n",
    "rmse = np.sqrt(mean_squared_error(y_test, y_pred))\n",
    "print(f'Root Mean Squared Error (SVM Regressor): {rmse}')"
   ]
  },
  {
   "cell_type": "code",
   "execution_count": null,
   "id": "8c9fb6cc-3fd9-45ae-9eaf-880269b495ee",
   "metadata": {},
   "outputs": [],
   "source": []
  }
 ],
 "metadata": {
  "kernelspec": {
   "display_name": "Python 3 (ipykernel)",
   "language": "python",
   "name": "python3"
  },
  "language_info": {
   "codemirror_mode": {
    "name": "ipython",
    "version": 3
   },
   "file_extension": ".py",
   "mimetype": "text/x-python",
   "name": "python",
   "nbconvert_exporter": "python",
   "pygments_lexer": "ipython3",
   "version": "3.11.5"
  }
 },
 "nbformat": 4,
 "nbformat_minor": 5
}
