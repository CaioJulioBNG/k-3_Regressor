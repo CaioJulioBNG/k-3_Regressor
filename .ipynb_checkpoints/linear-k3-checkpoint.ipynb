{
 "cells": [
  {
   "cell_type": "markdown",
   "id": "64830316-2ebe-42b8-a99e-d3a681e7fa9d",
   "metadata": {},
   "source": [
    "## Importações"
   ]
  },
  {
   "cell_type": "code",
   "execution_count": 1,
   "id": "8f818c47-b51c-4534-ab8b-828a2299265e",
   "metadata": {},
   "outputs": [],
   "source": [
    "import pandas as pd\n",
    "import numpy as np\n",
    "import matplotlib.pyplot as plt\n",
    "from sklearn.model_selection import cross_val_score, KFold\n",
    "from sklearn.linear_model import LinearRegression\n",
    "from sklearn.metrics import mean_squared_error, r2_score"
   ]
  },
  {
   "cell_type": "markdown",
   "id": "d96a6f19-c80a-4157-bb70-eca65e371f40",
   "metadata": {},
   "source": [
    "## Tratamento de Outliers"
   ]
  },
  {
   "cell_type": "code",
   "execution_count": 2,
   "id": "715fc52a-5731-4acf-921c-c9893f4b4d20",
   "metadata": {},
   "outputs": [],
   "source": [
    "def outliers(data, fator=1.5):\n",
    "    data_limpa = data.copy()\n",
    "    \n",
    "    for col in data_limpa.select_dtypes(include=[np.number]).columns:\n",
    "        Q1 = data_limpa[col].quantile(0.25)\n",
    "        Q3 = data_limpa[col].quantile(0.75)\n",
    "        IQR = Q3 - Q1\n",
    "        lower_bound = Q1 - (fator * IQR)\n",
    "        upper_bound = Q3 + (fator * IQR)\n",
    "        data_limpa[col] = np.clip(data_limpa[col], lower_bound, upper_bound)\n",
    "    \n",
    "    return data_limpa"
   ]
  },
  {
   "cell_type": "markdown",
   "id": "039c23f8-1915-489e-bc68-98ac08915053",
   "metadata": {},
   "source": [
    "## Data Upload"
   ]
  },
  {
   "cell_type": "code",
   "execution_count": 3,
   "id": "64009f53-1489-42ed-90b1-ef576319f39b",
   "metadata": {},
   "outputs": [],
   "source": [
    "data_treino = pd.read_csv('/home/caio/github/k-3/data/train.csv')\n",
    "data_teste = pd.read_csv('/home/caio/github/k-3/data/test.csv')"
   ]
  },
  {
   "cell_type": "markdown",
   "id": "cdc7358e-958e-4dbf-9e2f-d8a1ca268826",
   "metadata": {},
   "source": [
    "## Data Preparation"
   ]
  },
  {
   "cell_type": "code",
   "execution_count": 4,
   "id": "190e608c-32e4-4ce1-bd90-ec64621b1ad2",
   "metadata": {},
   "outputs": [],
   "source": [
    "data_treino_limpo = outliers(data_treino)\n",
    "data_teste_limpo = outliers(data_teste)"
   ]
  },
  {
   "cell_type": "code",
   "execution_count": 5,
   "id": "ab19b99d-cf85-4ee4-81b4-63c8eed74d5b",
   "metadata": {},
   "outputs": [],
   "source": [
    "feature_treino = data_treino_limpo.drop(columns=['rainfall']) # Feature Treino\n",
    "target_treino = data_treino.pop('rainfall')                   # Target Treino\n",
    "feature_final_imperfeito = data_teste_limpo\n",
    "feature_final = feature_final_imperfeito.fillna(feature_final_imperfeito.mean())"
   ]
  },
  {
   "cell_type": "markdown",
   "id": "f2866aa0-a039-47d7-827b-a5a1a5302356",
   "metadata": {},
   "source": [
    "## Modelo"
   ]
  },
  {
   "cell_type": "code",
   "execution_count": 6,
   "id": "27033ed8-e78f-4fb1-b347-e6e03c97e562",
   "metadata": {},
   "outputs": [],
   "source": [
    "modelo = LinearRegression()"
   ]
  },
  {
   "cell_type": "markdown",
   "id": "05cc6faf-1ddc-49f3-8585-539504b197b6",
   "metadata": {},
   "source": [
    "## Validação Cruzada"
   ]
  },
  {
   "cell_type": "code",
   "execution_count": 7,
   "id": "7b16bdae-c7e8-4841-a710-5f387fe5fb41",
   "metadata": {},
   "outputs": [
    {
     "name": "stdout",
     "output_type": "stream",
     "text": [
      "0.32131981629548967\n"
     ]
    }
   ],
   "source": [
    "dobra = KFold(n_splits=4, shuffle=True, random_state=69)                 # Configurando tipo de dobra                                   \n",
    "scores = cross_val_score(modelo, feature_treino,\n",
    "                         target_treino, cv=dobra,\n",
    "                         scoring='neg_root_mean_squared_error')          # Treinando o modelo sobre validação cruzada\n",
    "rmse_mean = -np.mean(scores)\n",
    "print(rmse_mean)"
   ]
  },
  {
   "cell_type": "markdown",
   "id": "015ba770-f221-4496-ab45-6a29888e97a7",
   "metadata": {},
   "source": [
    "## Modelo Final"
   ]
  },
  {
   "cell_type": "code",
   "execution_count": 8,
   "id": "1d35bcd1-79f8-49bc-8644-34d8b6959fdb",
   "metadata": {},
   "outputs": [],
   "source": [
    "modelo.fit(feature_treino, target_treino)\n",
    "previsao = modelo.predict(feature_final)"
   ]
  },
  {
   "cell_type": "markdown",
   "id": "2cb88707-65de-4ba7-81d6-43d64f3d233a",
   "metadata": {},
   "source": [
    "## Gerador CSV"
   ]
  },
  {
   "cell_type": "code",
   "execution_count": 15,
   "id": "d691e2ce-65d4-4e3b-afa2-d110405a62b8",
   "metadata": {},
   "outputs": [],
   "source": [
    "caminho_destino = 'previsoes/linear/Linear_v1.csv'\n",
    "resultado = pd.DataFrame({\n",
    "    'id': data_teste['id'],\n",
    "    'rainfall': previsao     \n",
    "})\n",
    "\n",
    "resultado.to_csv(caminho_destino, index=False)"
   ]
  },
  {
   "cell_type": "code",
   "execution_count": null,
   "id": "9f0f67f8-a2a9-4c45-924b-dc825060de45",
   "metadata": {},
   "outputs": [],
   "source": []
  }
 ],
 "metadata": {
  "kernelspec": {
   "display_name": "Python 3 (ipykernel)",
   "language": "python",
   "name": "python3"
  },
  "language_info": {
   "codemirror_mode": {
    "name": "ipython",
    "version": 3
   },
   "file_extension": ".py",
   "mimetype": "text/x-python",
   "name": "python",
   "nbconvert_exporter": "python",
   "pygments_lexer": "ipython3",
   "version": "3.11.5"
  }
 },
 "nbformat": 4,
 "nbformat_minor": 5
}
