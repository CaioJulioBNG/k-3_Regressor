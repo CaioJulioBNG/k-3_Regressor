{
 "cells": [
  {
   "cell_type": "code",
   "execution_count": 1,
   "id": "409ea766-53e2-4f5a-a82d-7c8ddbc5c0f9",
   "metadata": {},
   "outputs": [
    {
     "name": "stderr",
     "output_type": "stream",
     "text": [
      "2025-03-10 03:02:08.446421: I tensorflow/core/platform/cpu_feature_guard.cc:182] This TensorFlow binary is optimized to use available CPU instructions in performance-critical operations.\n",
      "To enable the following instructions: SSE4.1 SSE4.2, in other operations, rebuild TensorFlow with the appropriate compiler flags.\n"
     ]
    }
   ],
   "source": [
    "import pandas as pd\n",
    "import tensorflow as tf\n",
    "from sklearn.model_selection import train_test_split\n",
    "from sklearn.preprocessing import StandardScaler\n",
    "from tensorflow.keras.callbacks import EarlyStopping\n"
   ]
  },
  {
   "cell_type": "code",
   "execution_count": 2,
   "id": "0e51ce03-bc72-4d2b-b3c6-9f81ead355c4",
   "metadata": {},
   "outputs": [],
   "source": [
    "data_treino = pd.read_csv('/home/caio/github/k-3/data/train.csv')\n",
    "data_teste = pd.read_csv('/home/caio/github/k-3/data/test.csv')\n",
    "\n",
    "target_treino = data_treino.pop('rainfall')\n",
    "\n",
    "\n",
    "# Carregar as previsões dos arquivos CSV\n",
    "df_lr_predictions = pd.read_csv('/home/caio/github/k-3/meta_features/lr_final.csv')\n",
    "df_catboost_predictions = pd.read_csv('/home/caio/github/k-3/meta_features/cat_final.csv')\n",
    "df_neutal_predictions = pd.read_csv('/home/caio/github/k-3/meta_features/neural_final.csv')\n",
    "\n",
    "\n",
    "df_lr_predictions_teste = pd.read_csv('/home/caio/github/k-3/meta_features/lr_treino.csv')\n",
    "df_catboost_predictions_teste = pd.read_csv('/home/caio/github/k-3/meta_features/cat_treino.csv')\n",
    "df_neural_predictions_teste = pd.read_csv('/home/caio/github/k-3/meta_features/neural_teste.csv')\n",
    "\n",
    "\n",
    "# Empilhar as previsões dos modelos base em um novo conjunto de dados\n",
    "meta_features_previsao = pd.concat([df_lr_predictions, df_catboost_predictions, df_neutal_predictions], axis=1)\n",
    "meta_features = pd.concat([df_lr_predictions_teste, df_catboost_predictions_teste, df_neural_predictions_teste], axis=1)\n",
    "\n",
    "\n",
    "\n",
    "\n"
   ]
  },
  {
   "cell_type": "code",
   "execution_count": 3,
   "id": "24b3eb08-849e-46a2-adc8-6f3d853bde06",
   "metadata": {},
   "outputs": [
    {
     "name": "stderr",
     "output_type": "stream",
     "text": [
      "2025-03-10 03:02:10.306428: I tensorflow/core/common_runtime/process_util.cc:146] Creating new thread pool with default inter op setting: 2. Tune using inter_op_parallelism_threads for best performance.\n"
     ]
    }
   ],
   "source": [
    "X_train, X_val, y_train, y_val = train_test_split(meta_features, target_treino, test_size=0.2, random_state=42)\n",
    "\n",
    "model_meta = tf.keras.Sequential([\n",
    "    tf.keras.layers.InputLayer(input_shape=(X_train.shape[1],)),\n",
    "    tf.keras.layers.Dense(128, activation='relu'),\n",
    "    tf.keras.layers.Dropout(0.2),  # Adicionando camada de Dropout\n",
    "    tf.keras.layers.Dense(64, activation='relu'),\n",
    "    tf.keras.layers.Dense(1)  # Output layer (regressão)\n",
    "])"
   ]
  },
  {
   "cell_type": "code",
   "execution_count": 4,
   "id": "58244b6f-ecb1-4401-9de5-479beb01bde5",
   "metadata": {},
   "outputs": [
    {
     "name": "stdout",
     "output_type": "stream",
     "text": [
      "Epoch 1/100\n",
      "55/55 [==============================] - 1s 10ms/step - loss: 0.1733 - val_loss: 0.0900\n",
      "Epoch 2/100\n",
      "55/55 [==============================] - 0s 6ms/step - loss: 0.0764 - val_loss: 0.0727\n",
      "Epoch 3/100\n",
      "55/55 [==============================] - 0s 8ms/step - loss: 0.0677 - val_loss: 0.0670\n",
      "Epoch 4/100\n",
      "55/55 [==============================] - 0s 8ms/step - loss: 0.0601 - val_loss: 0.0634\n",
      "Epoch 5/100\n",
      "55/55 [==============================] - 0s 4ms/step - loss: 0.0587 - val_loss: 0.0631\n",
      "Epoch 6/100\n",
      "55/55 [==============================] - 0s 4ms/step - loss: 0.0576 - val_loss: 0.0624\n",
      "Epoch 7/100\n",
      "55/55 [==============================] - 0s 6ms/step - loss: 0.0559 - val_loss: 0.0643\n",
      "Epoch 8/100\n",
      "55/55 [==============================] - 0s 7ms/step - loss: 0.0542 - val_loss: 0.0597\n",
      "Epoch 9/100\n",
      "55/55 [==============================] - 0s 6ms/step - loss: 0.0538 - val_loss: 0.0601\n",
      "Epoch 10/100\n",
      "55/55 [==============================] - 0s 7ms/step - loss: 0.0524 - val_loss: 0.0575\n",
      "Epoch 11/100\n",
      "55/55 [==============================] - 0s 6ms/step - loss: 0.0529 - val_loss: 0.0577\n",
      "Epoch 12/100\n",
      "55/55 [==============================] - 0s 7ms/step - loss: 0.0517 - val_loss: 0.0573\n",
      "Epoch 13/100\n",
      "55/55 [==============================] - 0s 7ms/step - loss: 0.0530 - val_loss: 0.0584\n",
      "Epoch 14/100\n",
      "55/55 [==============================] - 0s 7ms/step - loss: 0.0506 - val_loss: 0.0573\n",
      "Epoch 15/100\n",
      "55/55 [==============================] - 0s 6ms/step - loss: 0.0515 - val_loss: 0.0560\n",
      "Epoch 16/100\n",
      "55/55 [==============================] - 0s 7ms/step - loss: 0.0521 - val_loss: 0.0600\n",
      "Epoch 17/100\n",
      "55/55 [==============================] - 0s 6ms/step - loss: 0.0505 - val_loss: 0.0561\n",
      "Epoch 18/100\n",
      "55/55 [==============================] - 0s 8ms/step - loss: 0.0504 - val_loss: 0.0587\n",
      "Epoch 19/100\n",
      "55/55 [==============================] - 1s 9ms/step - loss: 0.0506 - val_loss: 0.0586\n",
      "Epoch 20/100\n",
      "55/55 [==============================] - 0s 8ms/step - loss: 0.0499 - val_loss: 0.0584\n"
     ]
    },
    {
     "data": {
      "text/plain": [
       "<keras.callbacks.History at 0x7fe38006a810>"
      ]
     },
     "execution_count": 4,
     "metadata": {},
     "output_type": "execute_result"
    }
   ],
   "source": [
    "early_stopping = EarlyStopping(monitor='val_loss', patience=5, restore_best_weights=True)\n",
    "\n",
    "\n",
    "\n",
    "# Compilar o modelo\n",
    "model_meta.compile(optimizer=tf.keras.optimizers.Adam(learning_rate=0.001), loss='mean_squared_error')\n",
    "\n",
    "# Treinar o meta-modelo\n",
    "\n",
    "model_meta.fit(X_train, y_train, epochs=100, batch_size=32, validation_data=(X_val, y_val), callbacks=[early_stopping])\n",
    "\n"
   ]
  },
  {
   "cell_type": "code",
   "execution_count": 5,
   "id": "8b29fa2d-feb2-4e6e-8026-5f1a65eef390",
   "metadata": {},
   "outputs": [
    {
     "name": "stdout",
     "output_type": "stream",
     "text": [
      "23/23 [==============================] - 0s 4ms/step\n"
     ]
    }
   ],
   "source": [
    "previsao = model_meta.predict(meta_features_previsao)"
   ]
  },
  {
   "cell_type": "code",
   "execution_count": 6,
   "id": "07c687ab-cf73-4d22-add5-20af639d1df8",
   "metadata": {},
   "outputs": [],
   "source": [
    "caminho_destino = 'previsoes/linear/Meta_v1.csv'\n",
    "resultado = pd.DataFrame({\n",
    "    'id': data_teste['id'],\n",
    "    'rainfall': previsao.flatten() \n",
    "})\n",
    "\n",
    "resultado.to_csv(caminho_destino, index=False)"
   ]
  },
  {
   "cell_type": "code",
   "execution_count": null,
   "id": "78ac270b-c912-4b4a-8a51-6be95b601061",
   "metadata": {},
   "outputs": [],
   "source": []
  }
 ],
 "metadata": {
  "kernelspec": {
   "display_name": "Python 3 (ipykernel)",
   "language": "python",
   "name": "python3"
  },
  "language_info": {
   "codemirror_mode": {
    "name": "ipython",
    "version": 3
   },
   "file_extension": ".py",
   "mimetype": "text/x-python",
   "name": "python",
   "nbconvert_exporter": "python",
   "pygments_lexer": "ipython3",
   "version": "3.11.5"
  }
 },
 "nbformat": 4,
 "nbformat_minor": 5
}
