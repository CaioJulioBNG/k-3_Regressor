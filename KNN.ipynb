{
 "cells": [
  {
   "cell_type": "code",
   "execution_count": null,
   "id": "ffc42467-b36e-4113-a4af-d77328a5a680",
   "metadata": {},
   "outputs": [],
   "source": [
    "from sklearn.neighbors import KNeighborsRegressor\n",
    "from sklearn.model_selection import train_test_split\n",
    "from sklearn.metrics import mean_squared_error\n",
    "import numpy as np\n",
    "import pandas as pd"
   ]
  },
  {
   "cell_type": "code",
   "execution_count": null,
   "id": "f6f88ba9-def8-4323-95e3-e0aa51edc738",
   "metadata": {},
   "outputs": [],
   "source": [
    "data_treino = pd.read_csv('/home/caio/github/k-3/data/train.csv')\n",
    "data_teste = pd.read_csv('/home/caio/github/k-3/data/test.csv')"
   ]
  },
  {
   "cell_type": "code",
   "execution_count": null,
   "id": "3f9ce866-0a6b-4f35-a4ca-b85584a855aa",
   "metadata": {},
   "outputs": [],
   "source": [
    "feature_treino = data_treino.drop(columns=['rainfall']) # Feature Treino\n",
    "target_treino = data_treino.pop('rainfall')    "
   ]
  },
  {
   "cell_type": "code",
   "execution_count": null,
   "id": "36c0fbd8-faf0-42cd-971b-38d659e9d28c",
   "metadata": {},
   "outputs": [],
   "source": [
    "X_train, X_test, y_train, y_test = train_test_split(feature_treino, target_treino, test_size=0.2, random_state=69)"
   ]
  }
 ],
 "metadata": {
  "kernelspec": {
   "display_name": "Python 3 (ipykernel)",
   "language": "python",
   "name": "python3"
  },
  "language_info": {
   "codemirror_mode": {
    "name": "ipython",
    "version": 3
   },
   "file_extension": ".py",
   "mimetype": "text/x-python",
   "name": "python",
   "nbconvert_exporter": "python",
   "pygments_lexer": "ipython3",
   "version": "3.11.5"
  }
 },
 "nbformat": 4,
 "nbformat_minor": 5
}
