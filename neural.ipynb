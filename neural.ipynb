{
 "cells": [
  {
   "cell_type": "code",
   "execution_count": 21,
   "id": "dfeb761a-27d5-4761-af35-f4ab931b85a8",
   "metadata": {},
   "outputs": [],
   "source": [
    "import pandas as pd\n",
    "import numpy as np\n",
    "import tensorflow as tf\n",
    "from sklearn.model_selection import train_test_split\n",
    "from sklearn.preprocessing import StandardScaler"
   ]
  },
  {
   "cell_type": "code",
   "execution_count": 2,
   "id": "083c9614-e3cd-443f-ab13-4be1addec8fd",
   "metadata": {},
   "outputs": [],
   "source": [
    "def outliers(data, fator=1.5):\n",
    "    data_limpa = data.copy()\n",
    "    \n",
    "    for col in data_limpa.select_dtypes(include=[np.number]).columns:\n",
    "        Q1 = data_limpa[col].quantile(0.25)\n",
    "        Q3 = data_limpa[col].quantile(0.75)\n",
    "        IQR = Q3 - Q1\n",
    "        lower_bound = Q1 - (fator * IQR)\n",
    "        upper_bound = Q3 + (fator * IQR)\n",
    "        data_limpa[col] = np.clip(data_limpa[col], lower_bound, upper_bound)\n",
    "    \n",
    "    return data_limpa"
   ]
  },
  {
   "cell_type": "code",
   "execution_count": 3,
   "id": "e8ce7df2-60bd-4889-9871-216d640bf335",
   "metadata": {},
   "outputs": [],
   "source": [
    "data_treino = pd.read_csv('/home/caio/github/k-3/data/train.csv')\n",
    "data_teste = pd.read_csv('/home/caio/github/k-3/data/test.csv')"
   ]
  },
  {
   "cell_type": "code",
   "execution_count": 4,
   "id": "396b0def-d1e1-49a3-9279-4ceb75d8d18e",
   "metadata": {},
   "outputs": [],
   "source": [
    "data_treino_limpo = outliers(data_treino)\n",
    "data_teste_limpo = outliers(data_teste)"
   ]
  },
  {
   "cell_type": "code",
   "execution_count": 5,
   "id": "196197e7-ddff-4d6e-b3d3-51c75ed8e42d",
   "metadata": {},
   "outputs": [],
   "source": [
    "feature_treino = data_treino_limpo.drop(columns=['rainfall']) # Feature Treino\n",
    "target_treino = data_treino.pop('rainfall')                   # Target Treino\n",
    "feature_final_imperfeito = data_teste_limpo\n",
    "feature_final = feature_final_imperfeito.fillna(feature_final_imperfeito.mean())"
   ]
  },
  {
   "cell_type": "code",
   "execution_count": 6,
   "id": "9ce10de5-88a9-43d0-8bf4-5420942954a1",
   "metadata": {},
   "outputs": [
    {
     "name": "stderr",
     "output_type": "stream",
     "text": [
      "2025-03-10 01:40:06.013034: I tensorflow/core/common_runtime/process_util.cc:146] Creating new thread pool with default inter op setting: 2. Tune using inter_op_parallelism_threads for best performance.\n"
     ]
    }
   ],
   "source": [
    "X_train, X_val, y_train, y_val = train_test_split(feature_treino, target_treino, test_size=0.2, random_state=69)\n",
    "\n",
    "model_meta = tf.keras.Sequential([\n",
    "    tf.keras.layers.InputLayer(input_shape=(X_train.shape[1],)),\n",
    "    tf.keras.layers.Dense(128, activation='relu'),\n",
    "    tf.keras.layers.Dense(64, activation='relu'),\n",
    "    tf.keras.layers.Dense(1)  # Output layer (regressão)\n",
    "])"
   ]
  },
  {
   "cell_type": "code",
   "execution_count": 14,
   "id": "81add4e3-13c5-4008-9799-eb601f89ed7d",
   "metadata": {},
   "outputs": [
    {
     "name": "stdout",
     "output_type": "stream",
     "text": [
      "Epoch 1/40\n",
      "55/55 [==============================] - 1s 10ms/step - loss: 0.1030 - val_loss: 0.1295\n",
      "Epoch 2/40\n",
      "55/55 [==============================] - 0s 8ms/step - loss: 0.1008 - val_loss: 0.1315\n",
      "Epoch 3/40\n",
      "55/55 [==============================] - 0s 8ms/step - loss: 0.1015 - val_loss: 0.1269\n",
      "Epoch 4/40\n",
      "55/55 [==============================] - 0s 9ms/step - loss: 0.1034 - val_loss: 0.1270\n",
      "Epoch 5/40\n",
      "55/55 [==============================] - 1s 9ms/step - loss: 0.1020 - val_loss: 0.1274\n",
      "Epoch 6/40\n",
      "55/55 [==============================] - 0s 6ms/step - loss: 0.1023 - val_loss: 0.1310\n",
      "Epoch 7/40\n",
      "55/55 [==============================] - 0s 7ms/step - loss: 0.1038 - val_loss: 0.1342\n",
      "Epoch 8/40\n",
      "55/55 [==============================] - 0s 9ms/step - loss: 0.1093 - val_loss: 0.1310\n",
      "Epoch 9/40\n",
      "55/55 [==============================] - 0s 8ms/step - loss: 0.1045 - val_loss: 0.1378\n",
      "Epoch 10/40\n",
      "55/55 [==============================] - 0s 5ms/step - loss: 0.1059 - val_loss: 0.1270\n",
      "Epoch 11/40\n",
      "55/55 [==============================] - 0s 8ms/step - loss: 0.1031 - val_loss: 0.1290\n",
      "Epoch 12/40\n",
      "55/55 [==============================] - 0s 7ms/step - loss: 0.1009 - val_loss: 0.1265\n",
      "Epoch 13/40\n",
      "55/55 [==============================] - 0s 8ms/step - loss: 0.1021 - val_loss: 0.1278\n",
      "Epoch 14/40\n",
      "55/55 [==============================] - 1s 12ms/step - loss: 0.1002 - val_loss: 0.1291\n",
      "Epoch 15/40\n",
      "55/55 [==============================] - 1s 12ms/step - loss: 0.1007 - val_loss: 0.1334\n",
      "Epoch 16/40\n",
      "55/55 [==============================] - 1s 10ms/step - loss: 0.1061 - val_loss: 0.1583\n",
      "Epoch 17/40\n",
      "55/55 [==============================] - 1s 11ms/step - loss: 0.1047 - val_loss: 0.1272\n",
      "Epoch 18/40\n",
      "55/55 [==============================] - 1s 11ms/step - loss: 0.1063 - val_loss: 0.1289\n",
      "Epoch 19/40\n",
      "55/55 [==============================] - 0s 9ms/step - loss: 0.1040 - val_loss: 0.1400\n",
      "Epoch 20/40\n",
      "55/55 [==============================] - 0s 8ms/step - loss: 0.1062 - val_loss: 0.1274\n",
      "Epoch 21/40\n",
      "55/55 [==============================] - 0s 8ms/step - loss: 0.1020 - val_loss: 0.1268\n",
      "Epoch 22/40\n",
      "55/55 [==============================] - 0s 9ms/step - loss: 0.1118 - val_loss: 0.1365\n",
      "Epoch 23/40\n",
      "55/55 [==============================] - 0s 8ms/step - loss: 0.1032 - val_loss: 0.1335\n",
      "Epoch 24/40\n",
      "55/55 [==============================] - 0s 9ms/step - loss: 0.1017 - val_loss: 0.1278\n",
      "Epoch 25/40\n",
      "55/55 [==============================] - 0s 6ms/step - loss: 0.1010 - val_loss: 0.1363\n",
      "Epoch 26/40\n",
      "55/55 [==============================] - 0s 7ms/step - loss: 0.1016 - val_loss: 0.1314\n",
      "Epoch 27/40\n",
      "55/55 [==============================] - 0s 7ms/step - loss: 0.1065 - val_loss: 0.1285\n",
      "Epoch 28/40\n",
      "55/55 [==============================] - 0s 8ms/step - loss: 0.0999 - val_loss: 0.1323\n",
      "Epoch 29/40\n",
      "55/55 [==============================] - 0s 8ms/step - loss: 0.1013 - val_loss: 0.1318\n",
      "Epoch 30/40\n",
      "55/55 [==============================] - 0s 8ms/step - loss: 0.0997 - val_loss: 0.1296\n",
      "Epoch 31/40\n",
      "55/55 [==============================] - 1s 10ms/step - loss: 0.1013 - val_loss: 0.1270\n",
      "Epoch 32/40\n",
      "55/55 [==============================] - 0s 9ms/step - loss: 0.1000 - val_loss: 0.1274\n",
      "Epoch 33/40\n",
      "55/55 [==============================] - 0s 8ms/step - loss: 0.1001 - val_loss: 0.1270\n",
      "Epoch 34/40\n",
      "55/55 [==============================] - 0s 8ms/step - loss: 0.1015 - val_loss: 0.1280\n",
      "Epoch 35/40\n",
      "55/55 [==============================] - 0s 8ms/step - loss: 0.1053 - val_loss: 0.1288\n",
      "Epoch 36/40\n",
      "55/55 [==============================] - 0s 8ms/step - loss: 0.1111 - val_loss: 0.1301\n",
      "Epoch 37/40\n",
      "55/55 [==============================] - 0s 8ms/step - loss: 0.1013 - val_loss: 0.1272\n",
      "Epoch 38/40\n",
      "55/55 [==============================] - 0s 8ms/step - loss: 0.1001 - val_loss: 0.1409\n",
      "Epoch 39/40\n",
      "55/55 [==============================] - 0s 6ms/step - loss: 0.1083 - val_loss: 0.1327\n",
      "Epoch 40/40\n",
      "55/55 [==============================] - 0s 7ms/step - loss: 0.1036 - val_loss: 0.1265\n"
     ]
    },
    {
     "data": {
      "text/plain": [
       "<keras.callbacks.History at 0x7f28c6b6d550>"
      ]
     },
     "execution_count": 14,
     "metadata": {},
     "output_type": "execute_result"
    }
   ],
   "source": [
    "\n",
    "\n",
    "# Compilar o modelo\n",
    "model_meta.compile(optimizer=tf.keras.optimizers.Adam(learning_rate=0.00001), loss='mean_squared_error')\n",
    "\n",
    "\n",
    "# Treinar o meta-modelo\n",
    "model_meta.fit(X_train, y_train, epochs=40, batch_size=32, validation_data=(X_val, y_val))"
   ]
  },
  {
   "cell_type": "code",
   "execution_count": 15,
   "id": "6d1aedaf-f873-4682-bc08-4e417030215f",
   "metadata": {},
   "outputs": [
    {
     "name": "stdout",
     "output_type": "stream",
     "text": [
      "23/23 [==============================] - 0s 4ms/step\n",
      "69/69 [==============================] - 0s 3ms/step\n"
     ]
    }
   ],
   "source": [
    "previsao = model_meta.predict(data_teste)\n",
    "previsao1 = model_meta.predict(feature_treino)"
   ]
  },
  {
   "cell_type": "code",
   "execution_count": 13,
   "id": "08b93e19-20c7-41b4-818f-dd69db0035d3",
   "metadata": {},
   "outputs": [],
   "source": [
    "caminho_destino = 'previsoes/linear/Neural_v1.csv'\n",
    "resultado = pd.DataFrame({\n",
    "    'id': data_teste['id'],\n",
    "    'rainfall': previsao.flatten() \n",
    "})\n",
    "\n",
    "resultado.to_csv(caminho_destino, index=False)"
   ]
  },
  {
   "cell_type": "code",
   "execution_count": 19,
   "id": "206197cd-c224-4687-a723-c86a0e89a874",
   "metadata": {},
   "outputs": [],
   "source": [
    "caminho_meta = '/home/caio/github/k-3/meta_features/neural_final.csv'\n",
    "meta_f = pd.DataFrame({\n",
    "    'neural': previsao.flatten() \n",
    "})\n",
    "\n",
    "meta_f.to_csv(caminho_meta, index=False)"
   ]
  },
  {
   "cell_type": "code",
   "execution_count": 20,
   "id": "6cfd2ed2-e75b-4191-a3c7-a957e977b8c3",
   "metadata": {},
   "outputs": [],
   "source": [
    "caminho_meta = '/home/caio/github/k-3/meta_features/neural_teste.csv'\n",
    "meta_f = pd.DataFrame({\n",
    "    'neural_treino': previsao1.flatten() \n",
    "})\n",
    "\n",
    "meta_f.to_csv(caminho_meta, index=False)"
   ]
  },
  {
   "cell_type": "code",
   "execution_count": null,
   "id": "724a3ff7-7d83-4f1f-a3d2-b376771dcf24",
   "metadata": {},
   "outputs": [],
   "source": []
  }
 ],
 "metadata": {
  "kernelspec": {
   "display_name": "Python 3 (ipykernel)",
   "language": "python",
   "name": "python3"
  },
  "language_info": {
   "codemirror_mode": {
    "name": "ipython",
    "version": 3
   },
   "file_extension": ".py",
   "mimetype": "text/x-python",
   "name": "python",
   "nbconvert_exporter": "python",
   "pygments_lexer": "ipython3",
   "version": "3.11.5"
  }
 },
 "nbformat": 4,
 "nbformat_minor": 5
}
