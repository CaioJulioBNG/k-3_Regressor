{
 "cells": [
  {
   "cell_type": "markdown",
   "id": "99d29e6f-b8c9-4698-9318-a0ed8b03bcab",
   "metadata": {},
   "source": [
    "## Importações"
   ]
  },
  {
   "cell_type": "code",
   "execution_count": 1,
   "id": "17ae0a79",
   "metadata": {},
   "outputs": [],
   "source": [
    "import pandas as pd\n",
    "import numpy as np\n",
    "from catboost import CatBoostRegressor, CatBoostClassifier\n",
    "from sklearn.metrics import mean_squared_error\n",
    "from sklearn.model_selection import KFold, cross_val_score, RandomizedSearchCV\n",
    "from sklearn.model_selection import train_test_split\n",
    "from sklearn.metrics import roc_auc_score, roc_curve"
   ]
  },
  {
   "cell_type": "markdown",
   "id": "39e0e283-9928-4154-84cd-9e2da42c1934",
   "metadata": {},
   "source": [
    "## Função para tratamento Outliers"
   ]
  },
  {
   "cell_type": "code",
   "execution_count": 2,
   "id": "9c373cd2-9e1c-4e1e-bd9f-870990c56cc5",
   "metadata": {},
   "outputs": [],
   "source": [
    "def outliers(data, fator=1.5):\n",
    "    data_limpa = data.copy()\n",
    "    \n",
    "    for col in data_limpa.select_dtypes(include=[np.number]).columns:\n",
    "        Q1 = data_limpa[col].quantile(0.25)\n",
    "        Q3 = data_limpa[col].quantile(0.75)\n",
    "        IQR = Q3 - Q1\n",
    "        lower_bound = Q1 - (fator * IQR)\n",
    "        upper_bound = Q3 + (fator * IQR)\n",
    "        data_limpa[col] = np.clip(data_limpa[col], lower_bound, upper_bound)\n",
    "    \n",
    "    return data_limpa"
   ]
  },
  {
   "cell_type": "markdown",
   "id": "66abd4db-9b27-4e28-8c13-c5db9a779e5f",
   "metadata": {},
   "source": [
    "## Carregamento dos Dados"
   ]
  },
  {
   "cell_type": "code",
   "execution_count": 3,
   "id": "399722fc-8a59-4a46-9996-d39cc32b1335",
   "metadata": {},
   "outputs": [],
   "source": [
    "data_treino = pd.read_csv('/home/caio/github/k-3/data/train.csv')\n",
    "data_teste = pd.read_csv('/home/caio/github/k-3/data/test.csv')"
   ]
  },
  {
   "cell_type": "code",
   "execution_count": 4,
   "id": "0cb27e27-9c07-45bc-92f0-266a69f6f229",
   "metadata": {},
   "outputs": [],
   "source": [
    "data_treino_limpo = outliers(data_treino)\n",
    "data_teste_limpo = outliers(data_teste)"
   ]
  },
  {
   "cell_type": "code",
   "execution_count": 5,
   "id": "08f85601-1f94-4bbd-940e-f12418a7683a",
   "metadata": {},
   "outputs": [],
   "source": [
    "feature_treino = data_treino_limpo.drop(columns=['rainfall']) # Feature Treino\n",
    "target_treino = data_treino.pop('rainfall')                   # Target Treino\n",
    "feature_final = data_teste_limpo                              # Feature para Teste final"
   ]
  },
  {
   "cell_type": "markdown",
   "id": "dd00df3a-e921-4fc1-827e-f878e3f128d1",
   "metadata": {},
   "source": [
    "## Iniciando o Modelo"
   ]
  },
  {
   "cell_type": "code",
   "execution_count": 6,
   "id": "5d240f07-b6df-4860-b87b-b8211027ceb0",
   "metadata": {},
   "outputs": [],
   "source": [
    "modelo = CatBoostRegressor(\n",
    "    iterations=100,\n",
    "    depth=6,\n",
    "    learning_rate=0.1,\n",
    "    loss_function='RMSE',\n",
    "    verbose=0\n",
    ")"
   ]
  },
  {
   "cell_type": "markdown",
   "id": "12e38030-b64a-413c-99ae-004301555c92",
   "metadata": {},
   "source": [
    "## Validação Cruzada"
   ]
  },
  {
   "cell_type": "code",
   "execution_count": 7,
   "id": "2fdfd1db-d0e7-443b-a5c2-cf4ba253612c",
   "metadata": {},
   "outputs": [
    {
     "name": "stdout",
     "output_type": "stream",
     "text": [
      "0.31684929778141385\n"
     ]
    }
   ],
   "source": [
    "dobra = KFold(n_splits=4, shuffle=True, random_state=69)                 # Configurando tipo de dobra                                   \n",
    "scores = cross_val_score(modelo, feature_treino,\n",
    "                         target_treino, cv=dobra,\n",
    "                         scoring='neg_root_mean_squared_error')          # Treinando o modelo sobre validação cruzada\n",
    "rmse_mean = -np.mean(scores)\n",
    "print(rmse_mean)\n",
    "\n",
    "# OBS: RMSE menor é melhor,\n",
    "#      Métrica kaggle maior é melhor !\n",
    "# MVP: 0.31684929778141385"
   ]
  },
  {
   "cell_type": "markdown",
   "id": "db20cce4-e27a-4410-9f93-d46e1c229d76",
   "metadata": {},
   "source": [
    "## Modelo Final"
   ]
  },
  {
   "cell_type": "code",
   "execution_count": 18,
   "id": "df955f02-9f96-458b-9272-6deef47da75c",
   "metadata": {},
   "outputs": [],
   "source": [
    "modelo.fit(feature_treino, target_treino)\n",
    "previsao = modelo.predict(feature_final)\n",
    "previsao1= modelo.predict(feature_treino)"
   ]
  },
  {
   "cell_type": "markdown",
   "id": "c371b66e-0d91-4262-b471-268f608077a2",
   "metadata": {},
   "source": [
    "## Gerando arquivo CSV"
   ]
  },
  {
   "cell_type": "code",
   "execution_count": 9,
   "id": "bf310417-90ec-4bf8-a6b1-da7b80ab1065",
   "metadata": {},
   "outputs": [],
   "source": [
    "caminho_destino = 'previsoes/cat/Cat_v1.3.csv'\n",
    "resultado = pd.DataFrame({\n",
    "    'id': data_teste['id'],\n",
    "    'rainfall': previsao     \n",
    "})\n",
    "\n",
    "resultado.to_csv(caminho_destino, index=False)\n"
   ]
  },
  {
   "cell_type": "code",
   "execution_count": 15,
   "id": "729b6d40-ae1e-4c50-9d69-a1cf74fc750f",
   "metadata": {},
   "outputs": [],
   "source": [
    "caminho_meta = '/home/caio/github/k-3/meta_features/cat_final.csv'\n",
    "meta_f = pd.DataFrame({\n",
    "    'catboost': previsao\n",
    "})\n",
    "\n",
    "meta_f.to_csv(caminho_meta, index=False)"
   ]
  },
  {
   "cell_type": "code",
   "execution_count": 19,
   "id": "79812a7f-d517-4a1f-a7f9-22256911fe51",
   "metadata": {},
   "outputs": [],
   "source": [
    "caminho_meta = '/home/caio/github/k-3/meta_features/cat_treino.csv'\n",
    "meta_f = pd.DataFrame({\n",
    "    'catboost': previsao1\n",
    "})\n",
    "\n",
    "meta_f.to_csv(caminho_meta, index=False)"
   ]
  },
  {
   "cell_type": "code",
   "execution_count": 20,
   "id": "9d2b2d76-8e8b-4d85-a51e-47ad15c4db49",
   "metadata": {},
   "outputs": [
    {
     "data": {
      "text/plain": [
       "(730,)"
      ]
     },
     "execution_count": 20,
     "metadata": {},
     "output_type": "execute_result"
    }
   ],
   "source": [
    "previsao.shape"
   ]
  },
  {
   "cell_type": "code",
   "execution_count": 21,
   "id": "42875cf4-57c1-4144-959b-6ee0eb766ac4",
   "metadata": {},
   "outputs": [
    {
     "data": {
      "text/plain": [
       "(2190,)"
      ]
     },
     "execution_count": 21,
     "metadata": {},
     "output_type": "execute_result"
    }
   ],
   "source": [
    "previsao1.shape"
   ]
  },
  {
   "cell_type": "code",
   "execution_count": null,
   "id": "48815e87-0609-4069-9027-24552685c4f9",
   "metadata": {},
   "outputs": [],
   "source": []
  }
 ],
 "metadata": {
  "kernelspec": {
   "display_name": "Python 3 (ipykernel)",
   "language": "python",
   "name": "python3"
  },
  "language_info": {
   "codemirror_mode": {
    "name": "ipython",
    "version": 3
   },
   "file_extension": ".py",
   "mimetype": "text/x-python",
   "name": "python",
   "nbconvert_exporter": "python",
   "pygments_lexer": "ipython3",
   "version": "3.11.5"
  }
 },
 "nbformat": 4,
 "nbformat_minor": 5
}
